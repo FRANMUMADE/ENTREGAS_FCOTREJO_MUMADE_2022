{
  "nbformat": 4,
  "nbformat_minor": 0,
  "metadata": {
    "colab": {
      "provenance": [],
      "collapsed_sections": [
        "ZWsgkSMwOJVf"
      ],
      "include_colab_link": true
    },
    "kernelspec": {
      "name": "python3",
      "display_name": "Python 3"
    },
    "language_info": {
      "name": "python"
    }
  },
  "cells": [
    {
      "cell_type": "markdown",
      "metadata": {
        "id": "view-in-github",
        "colab_type": "text"
      },
      "source": [
        "<a href=\"https://colab.research.google.com/github/FRANMUMADE/ENTREGAS_FCOTREJO_MUMADE_2022/blob/main/09_nov_Consultas_SQL_FRAN_PARA_ENTREGAR.ipynb\" target=\"_parent\"><img src=\"https://colab.research.google.com/assets/colab-badge.svg\" alt=\"Open In Colab\"/></a>"
      ]
    },
    {
      "cell_type": "markdown",
      "source": [
        "ALUMNO: FRANCISCO JAVIER TREJO RODRÍGUEZ"
      ],
      "metadata": {
        "id": "jw9znGy23toU"
      }
    },
    {
      "cell_type": "markdown",
      "metadata": {
        "id": "uVLwnFMM0sQw"
      },
      "source": [
        "# Consultas SQL\n",
        "FINANCIAL DATA SET\n",
        "Disculpad por la posible falta de tildes o uso indebido de mayúsculas.\n",
        "---\n",
        "\n"
      ]
    },
    {
      "cell_type": "markdown",
      "metadata": {
        "id": "R1snOoPhqDip"
      },
      "source": [
        "\n",
        "Antes de empezar cargamos nuestro archivo data_berka en nuestro entorno: [enlace](https://sorry.vse.cz/~berka/challenge/pkdd1999/berka.htm)"
      ]
    },
    {
      "cell_type": "code",
      "metadata": {
        "colab": {
          "base_uri": "https://localhost:8080/"
        },
        "id": "beYOpxWWdcBF",
        "outputId": "ed9ea6cc-436b-4cbb-b531-7185f4cb295e"
      },
      "source": [
        "!gdown --id 1Osmr7qVN0NMuqYxvLesNn7H4nqPCVbsU"
      ],
      "execution_count": null,
      "outputs": [
        {
          "output_type": "stream",
          "name": "stdout",
          "text": [
            "/usr/local/lib/python3.7/dist-packages/gdown/cli.py:131: FutureWarning: Option `--id` was deprecated in version 4.3.1 and will be removed in 5.0. You don't need to pass it anymore to use a file ID.\n",
            "  category=FutureWarning,\n",
            "Downloading...\n",
            "From: https://drive.google.com/uc?id=1Osmr7qVN0NMuqYxvLesNn7H4nqPCVbsU\n",
            "To: /content/data_berka.db\n",
            "100% 70.2M/70.2M [00:00<00:00, 135MB/s]\n"
          ]
        }
      ]
    },
    {
      "cell_type": "markdown",
      "metadata": {
        "id": "IW81KHupoRLS"
      },
      "source": [
        "En primer lugar cargamos la extensión que nos va permitir manejar comandos sql directamente en colab, es parecido al commit que hemos hecho antes\n"
      ]
    },
    {
      "cell_type": "code",
      "metadata": {
        "id": "we_e5c410uTN"
      },
      "source": [
        "%load_ext sql"
      ],
      "execution_count": null,
      "outputs": []
    },
    {
      "cell_type": "markdown",
      "source": [
        "Y conectamos con la base de datos. Al inicio de TODAS las celdas de código debe llevar  %sql de esta forma le decimos que aplique funciones SQL."
      ],
      "metadata": {
        "id": "ngTXa66CnDQl"
      }
    },
    {
      "cell_type": "code",
      "metadata": {
        "colab": {
          "base_uri": "https://localhost:8080/",
          "height": 35
        },
        "id": "duTwjlKm1Xrn",
        "outputId": "94ce5676-f5fc-4827-f0fc-497106038eb3"
      },
      "source": [
        "%sql sqlite:///data_berka.db"
      ],
      "execution_count": null,
      "outputs": [
        {
          "output_type": "execute_result",
          "data": {
            "text/plain": [
              "'Connected: @data_berka.db'"
            ],
            "application/vnd.google.colaboratory.intrinsic+json": {
              "type": "string"
            }
          },
          "metadata": {},
          "execution_count": 3
        }
      ]
    },
    {
      "cell_type": "markdown",
      "source": [
        "Comprobamos esquema. Siempre tener el diseño abierto y la descripción de los datos, como buena pauta para practicar.\n",
        "Select: columna/as que queremos de una o varias tablas de BDR.\n",
        "From: de qué tabla queremos que lo coja.\n",
        "Where: es condición o filtro que tienen que cumplir los registros que yo quiero para que me salga."
      ],
      "metadata": {
        "id": "nl5LrMoznFVf"
      }
    },
    {
      "cell_type": "markdown",
      "source": [
        "la leyenda sería selecciona la columna name del conjunto sqlite master donde los tipos sean tablas. Muestra cada una de las tablas de nuestra BDR."
      ],
      "metadata": {
        "id": "W6X-2sveUmg3"
      }
    },
    {
      "cell_type": "code",
      "metadata": {
        "colab": {
          "base_uri": "https://localhost:8080/",
          "height": 246
        },
        "id": "jPf78IHX1f9O",
        "outputId": "b5c7a4fe-badf-470d-e82f-956f10fd141b"
      },
      "source": [
        "%%sql\n",
        "SELECT name,type\n",
        "FROM sqlite_master\n",
        "WHERE type = 'table'"
      ],
      "execution_count": null,
      "outputs": [
        {
          "output_type": "stream",
          "name": "stdout",
          "text": [
            " * sqlite:///data_berka.db\n",
            "Done.\n"
          ]
        },
        {
          "output_type": "execute_result",
          "data": {
            "text/plain": [
              "[('DISTRICT', 'table'),\n",
              " ('ACCOUNT', 'table'),\n",
              " ('TRANS', 'table'),\n",
              " ('CLIENT', 'table'),\n",
              " ('DISPOSITION', 'table'),\n",
              " ('CREDIT_CARD', 'table'),\n",
              " ('LOAN', 'table'),\n",
              " ('PERMANENT_ORDER', 'table')]"
            ],
            "text/html": [
              "<table>\n",
              "    <thead>\n",
              "        <tr>\n",
              "            <th>name</th>\n",
              "            <th>type</th>\n",
              "        </tr>\n",
              "    </thead>\n",
              "    <tbody>\n",
              "        <tr>\n",
              "            <td>DISTRICT</td>\n",
              "            <td>table</td>\n",
              "        </tr>\n",
              "        <tr>\n",
              "            <td>ACCOUNT</td>\n",
              "            <td>table</td>\n",
              "        </tr>\n",
              "        <tr>\n",
              "            <td>TRANS</td>\n",
              "            <td>table</td>\n",
              "        </tr>\n",
              "        <tr>\n",
              "            <td>CLIENT</td>\n",
              "            <td>table</td>\n",
              "        </tr>\n",
              "        <tr>\n",
              "            <td>DISPOSITION</td>\n",
              "            <td>table</td>\n",
              "        </tr>\n",
              "        <tr>\n",
              "            <td>CREDIT_CARD</td>\n",
              "            <td>table</td>\n",
              "        </tr>\n",
              "        <tr>\n",
              "            <td>LOAN</td>\n",
              "            <td>table</td>\n",
              "        </tr>\n",
              "        <tr>\n",
              "            <td>PERMANENT_ORDER</td>\n",
              "            <td>table</td>\n",
              "        </tr>\n",
              "    </tbody>\n",
              "</table>"
            ]
          },
          "metadata": {},
          "execution_count": 4
        }
      ]
    },
    {
      "cell_type": "markdown",
      "source": [
        "## Consultas sobre Préstamos"
      ],
      "metadata": {
        "id": "nbRfCdWvN97r"
      }
    },
    {
      "cell_type": "markdown",
      "source": [
        "1. Obtener TODOS (*) los atributos que tienen la tabla Préstamos (LOAN) con un máximo de 20 registros (esto último lo hacemos para que no nos salgan todos las filas o tuplas de dicha tabla.\n",
        "(extra limitar a 20 registros; comando LIMIT)"
      ],
      "metadata": {
        "id": "3emnyRCAMxUu"
      }
    },
    {
      "cell_type": "code",
      "source": [
        "%%sql\n",
        "SELECT *\n",
        "FROM LOAN\n",
        "LIMIT 20"
      ],
      "metadata": {
        "id": "M7xsOeN8M2kh",
        "colab": {
          "base_uri": "https://localhost:8080/",
          "height": 502
        },
        "outputId": "10730d56-74d9-4094-ec8c-25617c9e73be"
      },
      "execution_count": null,
      "outputs": [
        {
          "output_type": "stream",
          "name": "stdout",
          "text": [
            " * sqlite:///data_berka.db\n",
            "Done.\n"
          ]
        },
        {
          "output_type": "execute_result",
          "data": {
            "text/plain": [
              "[(5314, 1787, 930705, 96396, 12, 8033, 'B'),\n",
              " (5316, 1801, 930711, 165960, 36, 4610, 'A'),\n",
              " (6863, 9188, 930728, 127080, 60, 2118, 'A'),\n",
              " (5325, 1843, 930803, 105804, 36, 2939, 'A'),\n",
              " (7240, 11013, 930906, 274740, 60, 4579, 'A'),\n",
              " (6687, 8261, 930913, 87840, 24, 3660, 'A'),\n",
              " (7284, 11265, 930915, 52788, 12, 4399, 'A'),\n",
              " (6111, 5428, 930924, 174744, 24, 7281, 'B'),\n",
              " (7235, 10973, 931013, 154416, 48, 3217, 'A'),\n",
              " (5997, 4894, 931104, 117024, 24, 4876, 'A'),\n",
              " (7121, 10364, 931110, 21924, 36, 609, 'A'),\n",
              " (6077, 5270, 931122, 79608, 24, 3317, 'A'),\n",
              " (6228, 6034, 931201, 464520, 60, 7742, 'B'),\n",
              " (6356, 6701, 931208, 95400, 36, 2650, 'A'),\n",
              " (5523, 2705, 931208, 93888, 36, 2608, 'A'),\n",
              " (6456, 7123, 931209, 47016, 12, 3918, 'A'),\n",
              " (7104, 10320, 931213, 259740, 60, 4329, 'A'),\n",
              " (6820, 9034, 931216, 38148, 12, 3179, 'A'),\n",
              " (6876, 9236, 931221, 86616, 12, 7218, 'A'),\n",
              " (7097, 10266, 931223, 75624, 24, 3151, 'B')]"
            ],
            "text/html": [
              "<table>\n",
              "    <thead>\n",
              "        <tr>\n",
              "            <th>loan_id</th>\n",
              "            <th>account_id</th>\n",
              "            <th>date</th>\n",
              "            <th>amount</th>\n",
              "            <th>duration</th>\n",
              "            <th>payments</th>\n",
              "            <th>status</th>\n",
              "        </tr>\n",
              "    </thead>\n",
              "    <tbody>\n",
              "        <tr>\n",
              "            <td>5314</td>\n",
              "            <td>1787</td>\n",
              "            <td>930705</td>\n",
              "            <td>96396</td>\n",
              "            <td>12</td>\n",
              "            <td>8033</td>\n",
              "            <td>B</td>\n",
              "        </tr>\n",
              "        <tr>\n",
              "            <td>5316</td>\n",
              "            <td>1801</td>\n",
              "            <td>930711</td>\n",
              "            <td>165960</td>\n",
              "            <td>36</td>\n",
              "            <td>4610</td>\n",
              "            <td>A</td>\n",
              "        </tr>\n",
              "        <tr>\n",
              "            <td>6863</td>\n",
              "            <td>9188</td>\n",
              "            <td>930728</td>\n",
              "            <td>127080</td>\n",
              "            <td>60</td>\n",
              "            <td>2118</td>\n",
              "            <td>A</td>\n",
              "        </tr>\n",
              "        <tr>\n",
              "            <td>5325</td>\n",
              "            <td>1843</td>\n",
              "            <td>930803</td>\n",
              "            <td>105804</td>\n",
              "            <td>36</td>\n",
              "            <td>2939</td>\n",
              "            <td>A</td>\n",
              "        </tr>\n",
              "        <tr>\n",
              "            <td>7240</td>\n",
              "            <td>11013</td>\n",
              "            <td>930906</td>\n",
              "            <td>274740</td>\n",
              "            <td>60</td>\n",
              "            <td>4579</td>\n",
              "            <td>A</td>\n",
              "        </tr>\n",
              "        <tr>\n",
              "            <td>6687</td>\n",
              "            <td>8261</td>\n",
              "            <td>930913</td>\n",
              "            <td>87840</td>\n",
              "            <td>24</td>\n",
              "            <td>3660</td>\n",
              "            <td>A</td>\n",
              "        </tr>\n",
              "        <tr>\n",
              "            <td>7284</td>\n",
              "            <td>11265</td>\n",
              "            <td>930915</td>\n",
              "            <td>52788</td>\n",
              "            <td>12</td>\n",
              "            <td>4399</td>\n",
              "            <td>A</td>\n",
              "        </tr>\n",
              "        <tr>\n",
              "            <td>6111</td>\n",
              "            <td>5428</td>\n",
              "            <td>930924</td>\n",
              "            <td>174744</td>\n",
              "            <td>24</td>\n",
              "            <td>7281</td>\n",
              "            <td>B</td>\n",
              "        </tr>\n",
              "        <tr>\n",
              "            <td>7235</td>\n",
              "            <td>10973</td>\n",
              "            <td>931013</td>\n",
              "            <td>154416</td>\n",
              "            <td>48</td>\n",
              "            <td>3217</td>\n",
              "            <td>A</td>\n",
              "        </tr>\n",
              "        <tr>\n",
              "            <td>5997</td>\n",
              "            <td>4894</td>\n",
              "            <td>931104</td>\n",
              "            <td>117024</td>\n",
              "            <td>24</td>\n",
              "            <td>4876</td>\n",
              "            <td>A</td>\n",
              "        </tr>\n",
              "        <tr>\n",
              "            <td>7121</td>\n",
              "            <td>10364</td>\n",
              "            <td>931110</td>\n",
              "            <td>21924</td>\n",
              "            <td>36</td>\n",
              "            <td>609</td>\n",
              "            <td>A</td>\n",
              "        </tr>\n",
              "        <tr>\n",
              "            <td>6077</td>\n",
              "            <td>5270</td>\n",
              "            <td>931122</td>\n",
              "            <td>79608</td>\n",
              "            <td>24</td>\n",
              "            <td>3317</td>\n",
              "            <td>A</td>\n",
              "        </tr>\n",
              "        <tr>\n",
              "            <td>6228</td>\n",
              "            <td>6034</td>\n",
              "            <td>931201</td>\n",
              "            <td>464520</td>\n",
              "            <td>60</td>\n",
              "            <td>7742</td>\n",
              "            <td>B</td>\n",
              "        </tr>\n",
              "        <tr>\n",
              "            <td>6356</td>\n",
              "            <td>6701</td>\n",
              "            <td>931208</td>\n",
              "            <td>95400</td>\n",
              "            <td>36</td>\n",
              "            <td>2650</td>\n",
              "            <td>A</td>\n",
              "        </tr>\n",
              "        <tr>\n",
              "            <td>5523</td>\n",
              "            <td>2705</td>\n",
              "            <td>931208</td>\n",
              "            <td>93888</td>\n",
              "            <td>36</td>\n",
              "            <td>2608</td>\n",
              "            <td>A</td>\n",
              "        </tr>\n",
              "        <tr>\n",
              "            <td>6456</td>\n",
              "            <td>7123</td>\n",
              "            <td>931209</td>\n",
              "            <td>47016</td>\n",
              "            <td>12</td>\n",
              "            <td>3918</td>\n",
              "            <td>A</td>\n",
              "        </tr>\n",
              "        <tr>\n",
              "            <td>7104</td>\n",
              "            <td>10320</td>\n",
              "            <td>931213</td>\n",
              "            <td>259740</td>\n",
              "            <td>60</td>\n",
              "            <td>4329</td>\n",
              "            <td>A</td>\n",
              "        </tr>\n",
              "        <tr>\n",
              "            <td>6820</td>\n",
              "            <td>9034</td>\n",
              "            <td>931216</td>\n",
              "            <td>38148</td>\n",
              "            <td>12</td>\n",
              "            <td>3179</td>\n",
              "            <td>A</td>\n",
              "        </tr>\n",
              "        <tr>\n",
              "            <td>6876</td>\n",
              "            <td>9236</td>\n",
              "            <td>931221</td>\n",
              "            <td>86616</td>\n",
              "            <td>12</td>\n",
              "            <td>7218</td>\n",
              "            <td>A</td>\n",
              "        </tr>\n",
              "        <tr>\n",
              "            <td>7097</td>\n",
              "            <td>10266</td>\n",
              "            <td>931223</td>\n",
              "            <td>75624</td>\n",
              "            <td>24</td>\n",
              "            <td>3151</td>\n",
              "            <td>B</td>\n",
              "        </tr>\n",
              "    </tbody>\n",
              "</table>"
            ]
          },
          "metadata": {},
          "execution_count": 5
        }
      ]
    },
    {
      "cell_type": "markdown",
      "source": [
        "2. Obtener los campos de fecha (date), amount (cantidad), duración (duration), pagos (payments), estado (STATUS)\n",
        "(extra limitar a 20 registros). Se pone el comando DESC para ordenarlos de forma descendente, ya que tiene predefinido forma ascendente. \n",
        "De esta forma solo estamos llamando a ciertas columnas de la tabla préstamos.\n",
        "Comando ORDER BY"
      ],
      "metadata": {
        "id": "ZRMqMQNDM3HE"
      }
    },
    {
      "cell_type": "code",
      "source": [
        "%%sql\n",
        "SELECT date, amount, duration, payments, status\n",
        "FROM LOAN\n",
        "ORDER BY amount DESC\n",
        "LIMIT 20\n"
      ],
      "metadata": {
        "id": "1Y_-HR8jNWJO",
        "colab": {
          "base_uri": "https://localhost:8080/",
          "height": 502
        },
        "outputId": "12dbfe8d-9088-4fb2-fcfb-7218f749b1dc"
      },
      "execution_count": null,
      "outputs": [
        {
          "output_type": "stream",
          "name": "stdout",
          "text": [
            " * sqlite:///data_berka.db\n",
            "Done.\n"
          ]
        },
        {
          "output_type": "execute_result",
          "data": {
            "text/plain": [
              "[(971019, 590820, 60, 9847, 'C'),\n",
              " (980123, 566640, 60, 9444, 'C'),\n",
              " (971112, 541200, 60, 9020, 'D'),\n",
              " (950217, 538500, 60, 8975, 'C'),\n",
              " (980120, 504000, 60, 8400, 'C'),\n",
              " (980522, 495180, 60, 8253, 'C'),\n",
              " (941219, 482940, 60, 8049, 'D'),\n",
              " (970212, 475680, 48, 9910, 'C'),\n",
              " (970907, 473280, 60, 7888, 'D'),\n",
              " (971225, 468060, 60, 7801, 'C'),\n",
              " (970613, 466608, 48, 9721, 'C'),\n",
              " (971227, 465504, 48, 9698, 'D'),\n",
              " (950709, 465072, 48, 9689, 'C'),\n",
              " (931201, 464520, 60, 7742, 'B'),\n",
              " (971105, 460980, 60, 7683, 'D'),\n",
              " (960723, 444864, 48, 9268, 'C'),\n",
              " (980829, 437460, 60, 7291, 'C'),\n",
              " (980213, 428784, 48, 8933, 'C'),\n",
              " (961118, 421008, 48, 8771, 'C'),\n",
              " (951029, 419880, 60, 6998, 'C')]"
            ],
            "text/html": [
              "<table>\n",
              "    <thead>\n",
              "        <tr>\n",
              "            <th>date</th>\n",
              "            <th>amount</th>\n",
              "            <th>duration</th>\n",
              "            <th>payments</th>\n",
              "            <th>status</th>\n",
              "        </tr>\n",
              "    </thead>\n",
              "    <tbody>\n",
              "        <tr>\n",
              "            <td>971019</td>\n",
              "            <td>590820</td>\n",
              "            <td>60</td>\n",
              "            <td>9847</td>\n",
              "            <td>C</td>\n",
              "        </tr>\n",
              "        <tr>\n",
              "            <td>980123</td>\n",
              "            <td>566640</td>\n",
              "            <td>60</td>\n",
              "            <td>9444</td>\n",
              "            <td>C</td>\n",
              "        </tr>\n",
              "        <tr>\n",
              "            <td>971112</td>\n",
              "            <td>541200</td>\n",
              "            <td>60</td>\n",
              "            <td>9020</td>\n",
              "            <td>D</td>\n",
              "        </tr>\n",
              "        <tr>\n",
              "            <td>950217</td>\n",
              "            <td>538500</td>\n",
              "            <td>60</td>\n",
              "            <td>8975</td>\n",
              "            <td>C</td>\n",
              "        </tr>\n",
              "        <tr>\n",
              "            <td>980120</td>\n",
              "            <td>504000</td>\n",
              "            <td>60</td>\n",
              "            <td>8400</td>\n",
              "            <td>C</td>\n",
              "        </tr>\n",
              "        <tr>\n",
              "            <td>980522</td>\n",
              "            <td>495180</td>\n",
              "            <td>60</td>\n",
              "            <td>8253</td>\n",
              "            <td>C</td>\n",
              "        </tr>\n",
              "        <tr>\n",
              "            <td>941219</td>\n",
              "            <td>482940</td>\n",
              "            <td>60</td>\n",
              "            <td>8049</td>\n",
              "            <td>D</td>\n",
              "        </tr>\n",
              "        <tr>\n",
              "            <td>970212</td>\n",
              "            <td>475680</td>\n",
              "            <td>48</td>\n",
              "            <td>9910</td>\n",
              "            <td>C</td>\n",
              "        </tr>\n",
              "        <tr>\n",
              "            <td>970907</td>\n",
              "            <td>473280</td>\n",
              "            <td>60</td>\n",
              "            <td>7888</td>\n",
              "            <td>D</td>\n",
              "        </tr>\n",
              "        <tr>\n",
              "            <td>971225</td>\n",
              "            <td>468060</td>\n",
              "            <td>60</td>\n",
              "            <td>7801</td>\n",
              "            <td>C</td>\n",
              "        </tr>\n",
              "        <tr>\n",
              "            <td>970613</td>\n",
              "            <td>466608</td>\n",
              "            <td>48</td>\n",
              "            <td>9721</td>\n",
              "            <td>C</td>\n",
              "        </tr>\n",
              "        <tr>\n",
              "            <td>971227</td>\n",
              "            <td>465504</td>\n",
              "            <td>48</td>\n",
              "            <td>9698</td>\n",
              "            <td>D</td>\n",
              "        </tr>\n",
              "        <tr>\n",
              "            <td>950709</td>\n",
              "            <td>465072</td>\n",
              "            <td>48</td>\n",
              "            <td>9689</td>\n",
              "            <td>C</td>\n",
              "        </tr>\n",
              "        <tr>\n",
              "            <td>931201</td>\n",
              "            <td>464520</td>\n",
              "            <td>60</td>\n",
              "            <td>7742</td>\n",
              "            <td>B</td>\n",
              "        </tr>\n",
              "        <tr>\n",
              "            <td>971105</td>\n",
              "            <td>460980</td>\n",
              "            <td>60</td>\n",
              "            <td>7683</td>\n",
              "            <td>D</td>\n",
              "        </tr>\n",
              "        <tr>\n",
              "            <td>960723</td>\n",
              "            <td>444864</td>\n",
              "            <td>48</td>\n",
              "            <td>9268</td>\n",
              "            <td>C</td>\n",
              "        </tr>\n",
              "        <tr>\n",
              "            <td>980829</td>\n",
              "            <td>437460</td>\n",
              "            <td>60</td>\n",
              "            <td>7291</td>\n",
              "            <td>C</td>\n",
              "        </tr>\n",
              "        <tr>\n",
              "            <td>980213</td>\n",
              "            <td>428784</td>\n",
              "            <td>48</td>\n",
              "            <td>8933</td>\n",
              "            <td>C</td>\n",
              "        </tr>\n",
              "        <tr>\n",
              "            <td>961118</td>\n",
              "            <td>421008</td>\n",
              "            <td>48</td>\n",
              "            <td>8771</td>\n",
              "            <td>C</td>\n",
              "        </tr>\n",
              "        <tr>\n",
              "            <td>951029</td>\n",
              "            <td>419880</td>\n",
              "            <td>60</td>\n",
              "            <td>6998</td>\n",
              "            <td>C</td>\n",
              "        </tr>\n",
              "    </tbody>\n",
              "</table>"
            ]
          },
          "metadata": {},
          "execution_count": 6
        }
      ]
    },
    {
      "cell_type": "markdown",
      "source": [
        "3. Obtener los distintos tipos de estado que se presentan en un préstamo. Me dice los valores que hay en dicho campo. Se refiere a que distinga la variable categórica Status por su clasificación A, B, C o D.\n",
        "Vemos que al no poner nada lo hace de forma ascendente (teniendo en cuenta el orden alfabético).\n",
        "comando DISTINCT"
      ],
      "metadata": {
        "id": "ioDp5S9nNXTJ"
      }
    },
    {
      "cell_type": "code",
      "source": [
        "%%sql\n",
        "SELECT DISTINCT status\n",
        "FROM LOAN \n",
        "ORDER BY status"
      ],
      "metadata": {
        "id": "aNOWaFWuNfNS",
        "colab": {
          "base_uri": "https://localhost:8080/",
          "height": 160
        },
        "outputId": "63a84d9b-5535-44d7-ee66-bad1b731a8ca"
      },
      "execution_count": null,
      "outputs": [
        {
          "output_type": "stream",
          "name": "stdout",
          "text": [
            " * sqlite:///data_berka.db\n",
            "Done.\n"
          ]
        },
        {
          "output_type": "execute_result",
          "data": {
            "text/plain": [
              "[('A',), ('B',), ('C',), ('D',)]"
            ],
            "text/html": [
              "<table>\n",
              "    <thead>\n",
              "        <tr>\n",
              "            <th>status</th>\n",
              "        </tr>\n",
              "    </thead>\n",
              "    <tbody>\n",
              "        <tr>\n",
              "            <td>A</td>\n",
              "        </tr>\n",
              "        <tr>\n",
              "            <td>B</td>\n",
              "        </tr>\n",
              "        <tr>\n",
              "            <td>C</td>\n",
              "        </tr>\n",
              "        <tr>\n",
              "            <td>D</td>\n",
              "        </tr>\n",
              "    </tbody>\n",
              "</table>"
            ]
          },
          "metadata": {},
          "execution_count": 7
        }
      ]
    },
    {
      "cell_type": "markdown",
      "source": [
        "4. Obtener solo los prestamos ya terminados.\n",
        "De nuestro diccionario de la BDR sacamos que la tabla préstamos, tiene un atributo denominado status, donde sus clasficadores son A, B, D y D, siendo A y B los que están finalizados."
      ],
      "metadata": {
        "id": "1qOqD78PNepq"
      }
    },
    {
      "cell_type": "code",
      "source": [
        "%%sql\n",
        "SELECT *\n",
        "FROM LOAN\n",
        "WHERE status in (\"A\", \"B\")\n",
        "LIMIT 20"
      ],
      "metadata": {
        "colab": {
          "base_uri": "https://localhost:8080/",
          "height": 502
        },
        "id": "gWKEEY-sW9Xu",
        "outputId": "efbbacd6-028d-4115-9fcb-c05683be51e4"
      },
      "execution_count": null,
      "outputs": [
        {
          "output_type": "stream",
          "name": "stdout",
          "text": [
            " * sqlite:///data_berka.db\n",
            "Done.\n"
          ]
        },
        {
          "output_type": "execute_result",
          "data": {
            "text/plain": [
              "[(5314, 1787, 930705, 96396, 12, 8033, 'B'),\n",
              " (5316, 1801, 930711, 165960, 36, 4610, 'A'),\n",
              " (6863, 9188, 930728, 127080, 60, 2118, 'A'),\n",
              " (5325, 1843, 930803, 105804, 36, 2939, 'A'),\n",
              " (7240, 11013, 930906, 274740, 60, 4579, 'A'),\n",
              " (6687, 8261, 930913, 87840, 24, 3660, 'A'),\n",
              " (7284, 11265, 930915, 52788, 12, 4399, 'A'),\n",
              " (6111, 5428, 930924, 174744, 24, 7281, 'B'),\n",
              " (7235, 10973, 931013, 154416, 48, 3217, 'A'),\n",
              " (5997, 4894, 931104, 117024, 24, 4876, 'A'),\n",
              " (7121, 10364, 931110, 21924, 36, 609, 'A'),\n",
              " (6077, 5270, 931122, 79608, 24, 3317, 'A'),\n",
              " (6228, 6034, 931201, 464520, 60, 7742, 'B'),\n",
              " (6356, 6701, 931208, 95400, 36, 2650, 'A'),\n",
              " (5523, 2705, 931208, 93888, 36, 2608, 'A'),\n",
              " (6456, 7123, 931209, 47016, 12, 3918, 'A'),\n",
              " (7104, 10320, 931213, 259740, 60, 4329, 'A'),\n",
              " (6820, 9034, 931216, 38148, 12, 3179, 'A'),\n",
              " (6876, 9236, 931221, 86616, 12, 7218, 'A'),\n",
              " (7097, 10266, 931223, 75624, 24, 3151, 'B')]"
            ],
            "text/html": [
              "<table>\n",
              "    <thead>\n",
              "        <tr>\n",
              "            <th>loan_id</th>\n",
              "            <th>account_id</th>\n",
              "            <th>date</th>\n",
              "            <th>amount</th>\n",
              "            <th>duration</th>\n",
              "            <th>payments</th>\n",
              "            <th>status</th>\n",
              "        </tr>\n",
              "    </thead>\n",
              "    <tbody>\n",
              "        <tr>\n",
              "            <td>5314</td>\n",
              "            <td>1787</td>\n",
              "            <td>930705</td>\n",
              "            <td>96396</td>\n",
              "            <td>12</td>\n",
              "            <td>8033</td>\n",
              "            <td>B</td>\n",
              "        </tr>\n",
              "        <tr>\n",
              "            <td>5316</td>\n",
              "            <td>1801</td>\n",
              "            <td>930711</td>\n",
              "            <td>165960</td>\n",
              "            <td>36</td>\n",
              "            <td>4610</td>\n",
              "            <td>A</td>\n",
              "        </tr>\n",
              "        <tr>\n",
              "            <td>6863</td>\n",
              "            <td>9188</td>\n",
              "            <td>930728</td>\n",
              "            <td>127080</td>\n",
              "            <td>60</td>\n",
              "            <td>2118</td>\n",
              "            <td>A</td>\n",
              "        </tr>\n",
              "        <tr>\n",
              "            <td>5325</td>\n",
              "            <td>1843</td>\n",
              "            <td>930803</td>\n",
              "            <td>105804</td>\n",
              "            <td>36</td>\n",
              "            <td>2939</td>\n",
              "            <td>A</td>\n",
              "        </tr>\n",
              "        <tr>\n",
              "            <td>7240</td>\n",
              "            <td>11013</td>\n",
              "            <td>930906</td>\n",
              "            <td>274740</td>\n",
              "            <td>60</td>\n",
              "            <td>4579</td>\n",
              "            <td>A</td>\n",
              "        </tr>\n",
              "        <tr>\n",
              "            <td>6687</td>\n",
              "            <td>8261</td>\n",
              "            <td>930913</td>\n",
              "            <td>87840</td>\n",
              "            <td>24</td>\n",
              "            <td>3660</td>\n",
              "            <td>A</td>\n",
              "        </tr>\n",
              "        <tr>\n",
              "            <td>7284</td>\n",
              "            <td>11265</td>\n",
              "            <td>930915</td>\n",
              "            <td>52788</td>\n",
              "            <td>12</td>\n",
              "            <td>4399</td>\n",
              "            <td>A</td>\n",
              "        </tr>\n",
              "        <tr>\n",
              "            <td>6111</td>\n",
              "            <td>5428</td>\n",
              "            <td>930924</td>\n",
              "            <td>174744</td>\n",
              "            <td>24</td>\n",
              "            <td>7281</td>\n",
              "            <td>B</td>\n",
              "        </tr>\n",
              "        <tr>\n",
              "            <td>7235</td>\n",
              "            <td>10973</td>\n",
              "            <td>931013</td>\n",
              "            <td>154416</td>\n",
              "            <td>48</td>\n",
              "            <td>3217</td>\n",
              "            <td>A</td>\n",
              "        </tr>\n",
              "        <tr>\n",
              "            <td>5997</td>\n",
              "            <td>4894</td>\n",
              "            <td>931104</td>\n",
              "            <td>117024</td>\n",
              "            <td>24</td>\n",
              "            <td>4876</td>\n",
              "            <td>A</td>\n",
              "        </tr>\n",
              "        <tr>\n",
              "            <td>7121</td>\n",
              "            <td>10364</td>\n",
              "            <td>931110</td>\n",
              "            <td>21924</td>\n",
              "            <td>36</td>\n",
              "            <td>609</td>\n",
              "            <td>A</td>\n",
              "        </tr>\n",
              "        <tr>\n",
              "            <td>6077</td>\n",
              "            <td>5270</td>\n",
              "            <td>931122</td>\n",
              "            <td>79608</td>\n",
              "            <td>24</td>\n",
              "            <td>3317</td>\n",
              "            <td>A</td>\n",
              "        </tr>\n",
              "        <tr>\n",
              "            <td>6228</td>\n",
              "            <td>6034</td>\n",
              "            <td>931201</td>\n",
              "            <td>464520</td>\n",
              "            <td>60</td>\n",
              "            <td>7742</td>\n",
              "            <td>B</td>\n",
              "        </tr>\n",
              "        <tr>\n",
              "            <td>6356</td>\n",
              "            <td>6701</td>\n",
              "            <td>931208</td>\n",
              "            <td>95400</td>\n",
              "            <td>36</td>\n",
              "            <td>2650</td>\n",
              "            <td>A</td>\n",
              "        </tr>\n",
              "        <tr>\n",
              "            <td>5523</td>\n",
              "            <td>2705</td>\n",
              "            <td>931208</td>\n",
              "            <td>93888</td>\n",
              "            <td>36</td>\n",
              "            <td>2608</td>\n",
              "            <td>A</td>\n",
              "        </tr>\n",
              "        <tr>\n",
              "            <td>6456</td>\n",
              "            <td>7123</td>\n",
              "            <td>931209</td>\n",
              "            <td>47016</td>\n",
              "            <td>12</td>\n",
              "            <td>3918</td>\n",
              "            <td>A</td>\n",
              "        </tr>\n",
              "        <tr>\n",
              "            <td>7104</td>\n",
              "            <td>10320</td>\n",
              "            <td>931213</td>\n",
              "            <td>259740</td>\n",
              "            <td>60</td>\n",
              "            <td>4329</td>\n",
              "            <td>A</td>\n",
              "        </tr>\n",
              "        <tr>\n",
              "            <td>6820</td>\n",
              "            <td>9034</td>\n",
              "            <td>931216</td>\n",
              "            <td>38148</td>\n",
              "            <td>12</td>\n",
              "            <td>3179</td>\n",
              "            <td>A</td>\n",
              "        </tr>\n",
              "        <tr>\n",
              "            <td>6876</td>\n",
              "            <td>9236</td>\n",
              "            <td>931221</td>\n",
              "            <td>86616</td>\n",
              "            <td>12</td>\n",
              "            <td>7218</td>\n",
              "            <td>A</td>\n",
              "        </tr>\n",
              "        <tr>\n",
              "            <td>7097</td>\n",
              "            <td>10266</td>\n",
              "            <td>931223</td>\n",
              "            <td>75624</td>\n",
              "            <td>24</td>\n",
              "            <td>3151</td>\n",
              "            <td>B</td>\n",
              "        </tr>\n",
              "    </tbody>\n",
              "</table>"
            ]
          },
          "metadata": {},
          "execution_count": 8
        }
      ]
    },
    {
      "cell_type": "markdown",
      "source": [
        "5. Ordenar lo anterior por duración y cantidad\n",
        "\n",
        "extra: limitar a 40 elementos\n",
        "Ahora a la misma consulta de antes, le añadimos un nuevo filtro para que el output nos lo devuelva ordenado de forma ascendente según los atributos duración y cantidad del préstamo."
      ],
      "metadata": {
        "id": "eAyNhJVFYCSc"
      }
    },
    {
      "cell_type": "code",
      "source": [
        "%%sql\n",
        "SELECT *\n",
        "FROM LOAN\n",
        "WHERE status in (\"A\", \"B\")\n",
        "ORDER BY duration, amount\n",
        "LIMIT 40"
      ],
      "metadata": {
        "id": "1pnraRozNoBP",
        "colab": {
          "base_uri": "https://localhost:8080/",
          "height": 929
        },
        "outputId": "fddeae34-3a05-4738-aa8d-ee84c42b300f"
      },
      "execution_count": null,
      "outputs": [
        {
          "output_type": "stream",
          "name": "stdout",
          "text": [
            " * sqlite:///data_berka.db\n",
            "Done.\n"
          ]
        },
        {
          "output_type": "execute_result",
          "data": {
            "text/plain": [
              "[(5657, 3354, 940705, 4980, 12, 415, 'A'),\n",
              " (6019, 5033, 960725, 11400, 12, 950, 'A'),\n",
              " (5103, 666, 971128, 12540, 12, 1045, 'A'),\n",
              " (5718, 3637, 970901, 14028, 12, 1169, 'A'),\n",
              " (6064, 5215, 940804, 14628, 12, 1219, 'A'),\n",
              " (5599, 3064, 950321, 15420, 12, 1285, 'A'),\n",
              " (6377, 6792, 970317, 17184, 12, 1432, 'A'),\n",
              " (6297, 6363, 941025, 17508, 12, 1459, 'A'),\n",
              " (6942, 9513, 970716, 18324, 12, 1527, 'A'),\n",
              " (5740, 3752, 950402, 18564, 12, 1547, 'A'),\n",
              " (5651, 3329, 971208, 19248, 12, 1604, 'A'),\n",
              " (5922, 4580, 950805, 20220, 12, 1685, 'A'),\n",
              " (5980, 4825, 950818, 21396, 12, 1783, 'A'),\n",
              " (5754, 3834, 940928, 23052, 12, 1921, 'A'),\n",
              " (6878, 9242, 970124, 23184, 12, 1932, 'A'),\n",
              " (5229, 1329, 970906, 23520, 12, 1960, 'A'),\n",
              " (5723, 3674, 940910, 23628, 12, 1969, 'A'),\n",
              " (5130, 813, 940511, 24312, 12, 2026, 'A'),\n",
              " (5479, 2486, 940110, 24516, 12, 2043, 'A'),\n",
              " (5005, 176, 970410, 27456, 12, 2288, 'A'),\n",
              " (6578, 7765, 951211, 27984, 12, 2332, 'A'),\n",
              " (6865, 9199, 960911, 29448, 12, 2454, 'B'),\n",
              " (6501, 7418, 960429, 30276, 12, 2523, 'B'),\n",
              " (4961, 19, 960429, 30276, 12, 2523, 'B'),\n",
              " (6502, 7424, 971208, 30276, 12, 2523, 'A'),\n",
              " (4962, 25, 971208, 30276, 12, 2523, 'A'),\n",
              " (5576, 2962, 941221, 31248, 12, 2604, 'A'),\n",
              " (6758, 8742, 970729, 33144, 12, 2762, 'A'),\n",
              " (5932, 4626, 970618, 33348, 12, 2779, 'A'),\n",
              " (6310, 6440, 970617, 34572, 12, 2881, 'A'),\n",
              " (7008, 9897, 950922, 36168, 12, 3014, 'A'),\n",
              " (6929, 9472, 950508, 36396, 12, 3033, 'A'),\n",
              " (6306, 6425, 941220, 36684, 12, 3057, 'A'),\n",
              " (6362, 6738, 951031, 37908, 12, 3159, 'A'),\n",
              " (6820, 9034, 931216, 38148, 12, 3179, 'A'),\n",
              " (5358, 2018, 970121, 38520, 12, 3210, 'A'),\n",
              " (5634, 3229, 970501, 39024, 12, 3252, 'A'),\n",
              " (6888, 9265, 940711, 39576, 12, 3298, 'A'),\n",
              " (6887, 9263, 970508, 39576, 12, 3298, 'A'),\n",
              " (6895, 9307, 940919, 41904, 12, 3492, 'A')]"
            ],
            "text/html": [
              "<table>\n",
              "    <thead>\n",
              "        <tr>\n",
              "            <th>loan_id</th>\n",
              "            <th>account_id</th>\n",
              "            <th>date</th>\n",
              "            <th>amount</th>\n",
              "            <th>duration</th>\n",
              "            <th>payments</th>\n",
              "            <th>status</th>\n",
              "        </tr>\n",
              "    </thead>\n",
              "    <tbody>\n",
              "        <tr>\n",
              "            <td>5657</td>\n",
              "            <td>3354</td>\n",
              "            <td>940705</td>\n",
              "            <td>4980</td>\n",
              "            <td>12</td>\n",
              "            <td>415</td>\n",
              "            <td>A</td>\n",
              "        </tr>\n",
              "        <tr>\n",
              "            <td>6019</td>\n",
              "            <td>5033</td>\n",
              "            <td>960725</td>\n",
              "            <td>11400</td>\n",
              "            <td>12</td>\n",
              "            <td>950</td>\n",
              "            <td>A</td>\n",
              "        </tr>\n",
              "        <tr>\n",
              "            <td>5103</td>\n",
              "            <td>666</td>\n",
              "            <td>971128</td>\n",
              "            <td>12540</td>\n",
              "            <td>12</td>\n",
              "            <td>1045</td>\n",
              "            <td>A</td>\n",
              "        </tr>\n",
              "        <tr>\n",
              "            <td>5718</td>\n",
              "            <td>3637</td>\n",
              "            <td>970901</td>\n",
              "            <td>14028</td>\n",
              "            <td>12</td>\n",
              "            <td>1169</td>\n",
              "            <td>A</td>\n",
              "        </tr>\n",
              "        <tr>\n",
              "            <td>6064</td>\n",
              "            <td>5215</td>\n",
              "            <td>940804</td>\n",
              "            <td>14628</td>\n",
              "            <td>12</td>\n",
              "            <td>1219</td>\n",
              "            <td>A</td>\n",
              "        </tr>\n",
              "        <tr>\n",
              "            <td>5599</td>\n",
              "            <td>3064</td>\n",
              "            <td>950321</td>\n",
              "            <td>15420</td>\n",
              "            <td>12</td>\n",
              "            <td>1285</td>\n",
              "            <td>A</td>\n",
              "        </tr>\n",
              "        <tr>\n",
              "            <td>6377</td>\n",
              "            <td>6792</td>\n",
              "            <td>970317</td>\n",
              "            <td>17184</td>\n",
              "            <td>12</td>\n",
              "            <td>1432</td>\n",
              "            <td>A</td>\n",
              "        </tr>\n",
              "        <tr>\n",
              "            <td>6297</td>\n",
              "            <td>6363</td>\n",
              "            <td>941025</td>\n",
              "            <td>17508</td>\n",
              "            <td>12</td>\n",
              "            <td>1459</td>\n",
              "            <td>A</td>\n",
              "        </tr>\n",
              "        <tr>\n",
              "            <td>6942</td>\n",
              "            <td>9513</td>\n",
              "            <td>970716</td>\n",
              "            <td>18324</td>\n",
              "            <td>12</td>\n",
              "            <td>1527</td>\n",
              "            <td>A</td>\n",
              "        </tr>\n",
              "        <tr>\n",
              "            <td>5740</td>\n",
              "            <td>3752</td>\n",
              "            <td>950402</td>\n",
              "            <td>18564</td>\n",
              "            <td>12</td>\n",
              "            <td>1547</td>\n",
              "            <td>A</td>\n",
              "        </tr>\n",
              "        <tr>\n",
              "            <td>5651</td>\n",
              "            <td>3329</td>\n",
              "            <td>971208</td>\n",
              "            <td>19248</td>\n",
              "            <td>12</td>\n",
              "            <td>1604</td>\n",
              "            <td>A</td>\n",
              "        </tr>\n",
              "        <tr>\n",
              "            <td>5922</td>\n",
              "            <td>4580</td>\n",
              "            <td>950805</td>\n",
              "            <td>20220</td>\n",
              "            <td>12</td>\n",
              "            <td>1685</td>\n",
              "            <td>A</td>\n",
              "        </tr>\n",
              "        <tr>\n",
              "            <td>5980</td>\n",
              "            <td>4825</td>\n",
              "            <td>950818</td>\n",
              "            <td>21396</td>\n",
              "            <td>12</td>\n",
              "            <td>1783</td>\n",
              "            <td>A</td>\n",
              "        </tr>\n",
              "        <tr>\n",
              "            <td>5754</td>\n",
              "            <td>3834</td>\n",
              "            <td>940928</td>\n",
              "            <td>23052</td>\n",
              "            <td>12</td>\n",
              "            <td>1921</td>\n",
              "            <td>A</td>\n",
              "        </tr>\n",
              "        <tr>\n",
              "            <td>6878</td>\n",
              "            <td>9242</td>\n",
              "            <td>970124</td>\n",
              "            <td>23184</td>\n",
              "            <td>12</td>\n",
              "            <td>1932</td>\n",
              "            <td>A</td>\n",
              "        </tr>\n",
              "        <tr>\n",
              "            <td>5229</td>\n",
              "            <td>1329</td>\n",
              "            <td>970906</td>\n",
              "            <td>23520</td>\n",
              "            <td>12</td>\n",
              "            <td>1960</td>\n",
              "            <td>A</td>\n",
              "        </tr>\n",
              "        <tr>\n",
              "            <td>5723</td>\n",
              "            <td>3674</td>\n",
              "            <td>940910</td>\n",
              "            <td>23628</td>\n",
              "            <td>12</td>\n",
              "            <td>1969</td>\n",
              "            <td>A</td>\n",
              "        </tr>\n",
              "        <tr>\n",
              "            <td>5130</td>\n",
              "            <td>813</td>\n",
              "            <td>940511</td>\n",
              "            <td>24312</td>\n",
              "            <td>12</td>\n",
              "            <td>2026</td>\n",
              "            <td>A</td>\n",
              "        </tr>\n",
              "        <tr>\n",
              "            <td>5479</td>\n",
              "            <td>2486</td>\n",
              "            <td>940110</td>\n",
              "            <td>24516</td>\n",
              "            <td>12</td>\n",
              "            <td>2043</td>\n",
              "            <td>A</td>\n",
              "        </tr>\n",
              "        <tr>\n",
              "            <td>5005</td>\n",
              "            <td>176</td>\n",
              "            <td>970410</td>\n",
              "            <td>27456</td>\n",
              "            <td>12</td>\n",
              "            <td>2288</td>\n",
              "            <td>A</td>\n",
              "        </tr>\n",
              "        <tr>\n",
              "            <td>6578</td>\n",
              "            <td>7765</td>\n",
              "            <td>951211</td>\n",
              "            <td>27984</td>\n",
              "            <td>12</td>\n",
              "            <td>2332</td>\n",
              "            <td>A</td>\n",
              "        </tr>\n",
              "        <tr>\n",
              "            <td>6865</td>\n",
              "            <td>9199</td>\n",
              "            <td>960911</td>\n",
              "            <td>29448</td>\n",
              "            <td>12</td>\n",
              "            <td>2454</td>\n",
              "            <td>B</td>\n",
              "        </tr>\n",
              "        <tr>\n",
              "            <td>6501</td>\n",
              "            <td>7418</td>\n",
              "            <td>960429</td>\n",
              "            <td>30276</td>\n",
              "            <td>12</td>\n",
              "            <td>2523</td>\n",
              "            <td>B</td>\n",
              "        </tr>\n",
              "        <tr>\n",
              "            <td>4961</td>\n",
              "            <td>19</td>\n",
              "            <td>960429</td>\n",
              "            <td>30276</td>\n",
              "            <td>12</td>\n",
              "            <td>2523</td>\n",
              "            <td>B</td>\n",
              "        </tr>\n",
              "        <tr>\n",
              "            <td>6502</td>\n",
              "            <td>7424</td>\n",
              "            <td>971208</td>\n",
              "            <td>30276</td>\n",
              "            <td>12</td>\n",
              "            <td>2523</td>\n",
              "            <td>A</td>\n",
              "        </tr>\n",
              "        <tr>\n",
              "            <td>4962</td>\n",
              "            <td>25</td>\n",
              "            <td>971208</td>\n",
              "            <td>30276</td>\n",
              "            <td>12</td>\n",
              "            <td>2523</td>\n",
              "            <td>A</td>\n",
              "        </tr>\n",
              "        <tr>\n",
              "            <td>5576</td>\n",
              "            <td>2962</td>\n",
              "            <td>941221</td>\n",
              "            <td>31248</td>\n",
              "            <td>12</td>\n",
              "            <td>2604</td>\n",
              "            <td>A</td>\n",
              "        </tr>\n",
              "        <tr>\n",
              "            <td>6758</td>\n",
              "            <td>8742</td>\n",
              "            <td>970729</td>\n",
              "            <td>33144</td>\n",
              "            <td>12</td>\n",
              "            <td>2762</td>\n",
              "            <td>A</td>\n",
              "        </tr>\n",
              "        <tr>\n",
              "            <td>5932</td>\n",
              "            <td>4626</td>\n",
              "            <td>970618</td>\n",
              "            <td>33348</td>\n",
              "            <td>12</td>\n",
              "            <td>2779</td>\n",
              "            <td>A</td>\n",
              "        </tr>\n",
              "        <tr>\n",
              "            <td>6310</td>\n",
              "            <td>6440</td>\n",
              "            <td>970617</td>\n",
              "            <td>34572</td>\n",
              "            <td>12</td>\n",
              "            <td>2881</td>\n",
              "            <td>A</td>\n",
              "        </tr>\n",
              "        <tr>\n",
              "            <td>7008</td>\n",
              "            <td>9897</td>\n",
              "            <td>950922</td>\n",
              "            <td>36168</td>\n",
              "            <td>12</td>\n",
              "            <td>3014</td>\n",
              "            <td>A</td>\n",
              "        </tr>\n",
              "        <tr>\n",
              "            <td>6929</td>\n",
              "            <td>9472</td>\n",
              "            <td>950508</td>\n",
              "            <td>36396</td>\n",
              "            <td>12</td>\n",
              "            <td>3033</td>\n",
              "            <td>A</td>\n",
              "        </tr>\n",
              "        <tr>\n",
              "            <td>6306</td>\n",
              "            <td>6425</td>\n",
              "            <td>941220</td>\n",
              "            <td>36684</td>\n",
              "            <td>12</td>\n",
              "            <td>3057</td>\n",
              "            <td>A</td>\n",
              "        </tr>\n",
              "        <tr>\n",
              "            <td>6362</td>\n",
              "            <td>6738</td>\n",
              "            <td>951031</td>\n",
              "            <td>37908</td>\n",
              "            <td>12</td>\n",
              "            <td>3159</td>\n",
              "            <td>A</td>\n",
              "        </tr>\n",
              "        <tr>\n",
              "            <td>6820</td>\n",
              "            <td>9034</td>\n",
              "            <td>931216</td>\n",
              "            <td>38148</td>\n",
              "            <td>12</td>\n",
              "            <td>3179</td>\n",
              "            <td>A</td>\n",
              "        </tr>\n",
              "        <tr>\n",
              "            <td>5358</td>\n",
              "            <td>2018</td>\n",
              "            <td>970121</td>\n",
              "            <td>38520</td>\n",
              "            <td>12</td>\n",
              "            <td>3210</td>\n",
              "            <td>A</td>\n",
              "        </tr>\n",
              "        <tr>\n",
              "            <td>5634</td>\n",
              "            <td>3229</td>\n",
              "            <td>970501</td>\n",
              "            <td>39024</td>\n",
              "            <td>12</td>\n",
              "            <td>3252</td>\n",
              "            <td>A</td>\n",
              "        </tr>\n",
              "        <tr>\n",
              "            <td>6888</td>\n",
              "            <td>9265</td>\n",
              "            <td>940711</td>\n",
              "            <td>39576</td>\n",
              "            <td>12</td>\n",
              "            <td>3298</td>\n",
              "            <td>A</td>\n",
              "        </tr>\n",
              "        <tr>\n",
              "            <td>6887</td>\n",
              "            <td>9263</td>\n",
              "            <td>970508</td>\n",
              "            <td>39576</td>\n",
              "            <td>12</td>\n",
              "            <td>3298</td>\n",
              "            <td>A</td>\n",
              "        </tr>\n",
              "        <tr>\n",
              "            <td>6895</td>\n",
              "            <td>9307</td>\n",
              "            <td>940919</td>\n",
              "            <td>41904</td>\n",
              "            <td>12</td>\n",
              "            <td>3492</td>\n",
              "            <td>A</td>\n",
              "        </tr>\n",
              "    </tbody>\n",
              "</table>"
            ]
          },
          "metadata": {},
          "execution_count": 9
        }
      ]
    },
    {
      "cell_type": "markdown",
      "source": [
        "6. Cargar el resultado anterior en un dataframe (objeto) de PANDAS. \n",
        "PANDAS es una herramienta de análisis de datos de código abierto en el lenguaje de programación Python. El beneficio de pandas comienza cuando ya se tiene el conjunto de datos principal, generalmente a partir de una consulta SQL.\n",
        "\n",
        "La primera parte del código es para la importación y la segunda parte es para transformar en dataframe de pandas y guardarlo a parte para trabajar con ello con código SQL (como cuando lo hacemos en R y se queda en el Environment)\n"
      ],
      "metadata": {
        "id": "aaO-XBsBcsHG"
      }
    },
    {
      "cell_type": "code",
      "source": [
        "import pandas as pd\n",
        "df = %sql SELECT * FROM LOAN WHERE status in (\"A\", \"B\") ORDER BY duration, amount DESC\n",
        "df.DataFrame().to_csv(\"first_sql.csv\")"
      ],
      "metadata": {
        "id": "Bxkb98LXcq-H",
        "colab": {
          "base_uri": "https://localhost:8080/"
        },
        "outputId": "40245384-fb3f-48fd-d0f5-d7ec5232f6aa"
      },
      "execution_count": null,
      "outputs": [
        {
          "output_type": "stream",
          "name": "stdout",
          "text": [
            " * sqlite:///data_berka.db\n",
            "Done.\n"
          ]
        }
      ]
    },
    {
      "cell_type": "markdown",
      "source": [
        "Ex. 1\n",
        "\n",
        ">Plantear otro filtro para los préstamos (por cantidad, duración, status, etc.)\n",
        "Realmente no filtramos porque hemos cogido todas las variables de la tabla préstamos, que si hayan finalizado (eso si es un filtro) y que los ordene de forma ascendente por duración, cantidad y status con un límite de 15 observaciones.\n"
      ],
      "metadata": {
        "id": "rq7eabjjODyy"
      }
    },
    {
      "cell_type": "code",
      "source": [
        "%%sql\n",
        "SELECT *\n",
        "FROM LOAN\n",
        "WHERE status in (\"A\", \"B\")\n",
        "ORDER BY duration, amount, status\n",
        "LIMIT 15\n"
      ],
      "metadata": {
        "id": "HWesr-crQR1U",
        "colab": {
          "base_uri": "https://localhost:8080/",
          "height": 395
        },
        "outputId": "9d301c98-82f5-411a-fb46-839209168bb5"
      },
      "execution_count": null,
      "outputs": [
        {
          "output_type": "stream",
          "name": "stdout",
          "text": [
            " * sqlite:///data_berka.db\n",
            "Done.\n"
          ]
        },
        {
          "output_type": "execute_result",
          "data": {
            "text/plain": [
              "[(5657, 3354, 940705, 4980, 12, 415, 'A'),\n",
              " (6019, 5033, 960725, 11400, 12, 950, 'A'),\n",
              " (5103, 666, 971128, 12540, 12, 1045, 'A'),\n",
              " (5718, 3637, 970901, 14028, 12, 1169, 'A'),\n",
              " (6064, 5215, 940804, 14628, 12, 1219, 'A'),\n",
              " (5599, 3064, 950321, 15420, 12, 1285, 'A'),\n",
              " (6377, 6792, 970317, 17184, 12, 1432, 'A'),\n",
              " (6297, 6363, 941025, 17508, 12, 1459, 'A'),\n",
              " (6942, 9513, 970716, 18324, 12, 1527, 'A'),\n",
              " (5740, 3752, 950402, 18564, 12, 1547, 'A'),\n",
              " (5651, 3329, 971208, 19248, 12, 1604, 'A'),\n",
              " (5922, 4580, 950805, 20220, 12, 1685, 'A'),\n",
              " (5980, 4825, 950818, 21396, 12, 1783, 'A'),\n",
              " (5754, 3834, 940928, 23052, 12, 1921, 'A'),\n",
              " (6878, 9242, 970124, 23184, 12, 1932, 'A')]"
            ],
            "text/html": [
              "<table>\n",
              "    <thead>\n",
              "        <tr>\n",
              "            <th>loan_id</th>\n",
              "            <th>account_id</th>\n",
              "            <th>date</th>\n",
              "            <th>amount</th>\n",
              "            <th>duration</th>\n",
              "            <th>payments</th>\n",
              "            <th>status</th>\n",
              "        </tr>\n",
              "    </thead>\n",
              "    <tbody>\n",
              "        <tr>\n",
              "            <td>5657</td>\n",
              "            <td>3354</td>\n",
              "            <td>940705</td>\n",
              "            <td>4980</td>\n",
              "            <td>12</td>\n",
              "            <td>415</td>\n",
              "            <td>A</td>\n",
              "        </tr>\n",
              "        <tr>\n",
              "            <td>6019</td>\n",
              "            <td>5033</td>\n",
              "            <td>960725</td>\n",
              "            <td>11400</td>\n",
              "            <td>12</td>\n",
              "            <td>950</td>\n",
              "            <td>A</td>\n",
              "        </tr>\n",
              "        <tr>\n",
              "            <td>5103</td>\n",
              "            <td>666</td>\n",
              "            <td>971128</td>\n",
              "            <td>12540</td>\n",
              "            <td>12</td>\n",
              "            <td>1045</td>\n",
              "            <td>A</td>\n",
              "        </tr>\n",
              "        <tr>\n",
              "            <td>5718</td>\n",
              "            <td>3637</td>\n",
              "            <td>970901</td>\n",
              "            <td>14028</td>\n",
              "            <td>12</td>\n",
              "            <td>1169</td>\n",
              "            <td>A</td>\n",
              "        </tr>\n",
              "        <tr>\n",
              "            <td>6064</td>\n",
              "            <td>5215</td>\n",
              "            <td>940804</td>\n",
              "            <td>14628</td>\n",
              "            <td>12</td>\n",
              "            <td>1219</td>\n",
              "            <td>A</td>\n",
              "        </tr>\n",
              "        <tr>\n",
              "            <td>5599</td>\n",
              "            <td>3064</td>\n",
              "            <td>950321</td>\n",
              "            <td>15420</td>\n",
              "            <td>12</td>\n",
              "            <td>1285</td>\n",
              "            <td>A</td>\n",
              "        </tr>\n",
              "        <tr>\n",
              "            <td>6377</td>\n",
              "            <td>6792</td>\n",
              "            <td>970317</td>\n",
              "            <td>17184</td>\n",
              "            <td>12</td>\n",
              "            <td>1432</td>\n",
              "            <td>A</td>\n",
              "        </tr>\n",
              "        <tr>\n",
              "            <td>6297</td>\n",
              "            <td>6363</td>\n",
              "            <td>941025</td>\n",
              "            <td>17508</td>\n",
              "            <td>12</td>\n",
              "            <td>1459</td>\n",
              "            <td>A</td>\n",
              "        </tr>\n",
              "        <tr>\n",
              "            <td>6942</td>\n",
              "            <td>9513</td>\n",
              "            <td>970716</td>\n",
              "            <td>18324</td>\n",
              "            <td>12</td>\n",
              "            <td>1527</td>\n",
              "            <td>A</td>\n",
              "        </tr>\n",
              "        <tr>\n",
              "            <td>5740</td>\n",
              "            <td>3752</td>\n",
              "            <td>950402</td>\n",
              "            <td>18564</td>\n",
              "            <td>12</td>\n",
              "            <td>1547</td>\n",
              "            <td>A</td>\n",
              "        </tr>\n",
              "        <tr>\n",
              "            <td>5651</td>\n",
              "            <td>3329</td>\n",
              "            <td>971208</td>\n",
              "            <td>19248</td>\n",
              "            <td>12</td>\n",
              "            <td>1604</td>\n",
              "            <td>A</td>\n",
              "        </tr>\n",
              "        <tr>\n",
              "            <td>5922</td>\n",
              "            <td>4580</td>\n",
              "            <td>950805</td>\n",
              "            <td>20220</td>\n",
              "            <td>12</td>\n",
              "            <td>1685</td>\n",
              "            <td>A</td>\n",
              "        </tr>\n",
              "        <tr>\n",
              "            <td>5980</td>\n",
              "            <td>4825</td>\n",
              "            <td>950818</td>\n",
              "            <td>21396</td>\n",
              "            <td>12</td>\n",
              "            <td>1783</td>\n",
              "            <td>A</td>\n",
              "        </tr>\n",
              "        <tr>\n",
              "            <td>5754</td>\n",
              "            <td>3834</td>\n",
              "            <td>940928</td>\n",
              "            <td>23052</td>\n",
              "            <td>12</td>\n",
              "            <td>1921</td>\n",
              "            <td>A</td>\n",
              "        </tr>\n",
              "        <tr>\n",
              "            <td>6878</td>\n",
              "            <td>9242</td>\n",
              "            <td>970124</td>\n",
              "            <td>23184</td>\n",
              "            <td>12</td>\n",
              "            <td>1932</td>\n",
              "            <td>A</td>\n",
              "        </tr>\n",
              "    </tbody>\n",
              "</table>"
            ]
          },
          "metadata": {},
          "execution_count": 11
        }
      ]
    },
    {
      "cell_type": "markdown",
      "metadata": {
        "id": "2wEsj5e02itn"
      },
      "source": [
        " Ex. 2 \n",
        "\n",
        "> Seleccionar fecha, cantidad, duración y pagos de aquellos préstamos que han sido terminados ordenados de mayor de 12 meses ordenados de mayor a menor cantidad de dinero."
      ]
    },
    {
      "cell_type": "code",
      "source": [
        "%%sql\n",
        "SELECT date, amount, duration, payments\n",
        "FROM LOAN\n",
        "WHERE status in (\"A\", \"B\") \n",
        "AND duration > 12\n",
        "ORDER BY amount DESC"
      ],
      "metadata": {
        "id": "umWLpyefQI98"
      },
      "execution_count": null,
      "outputs": []
    },
    {
      "cell_type": "markdown",
      "source": [
        ">extra: volcar en un DataFrame.\n",
        "Le llamo second y compruebo en archivos que están ambos creados (first y second)\n",
        "\n",
        "si lo cliqueo aparace en la derecha\n",
        "le digo que sea un archivo tipo csv"
      ],
      "metadata": {
        "id": "pjTOQxKObSm1"
      }
    },
    {
      "cell_type": "code",
      "source": [
        "import pandas as pd\n",
        "ds = %sql SELECT date, amount, duration, payments FROM LOAN WHERE status in (\"A\", \"B\") AND duration > 12 ORDER BY amount DESC\n",
        "ds.DataFrame().to_csv(\"second_sql.csv\")"
      ],
      "metadata": {
        "colab": {
          "base_uri": "https://localhost:8080/"
        },
        "id": "cOvKkzttbUl5",
        "outputId": "3d377e94-4fea-456a-ca38-35bc39cb42f9"
      },
      "execution_count": null,
      "outputs": [
        {
          "output_type": "stream",
          "name": "stdout",
          "text": [
            " * sqlite:///data_berka.db\n",
            "Done.\n"
          ]
        }
      ]
    },
    {
      "cell_type": "markdown",
      "source": [
        "7. Es posible contabilizar cuántos cumplen dicha condición con el operador COUNT. Es un operador que se incluye junto a SELECT. Le digo que me contabilice todas las observaciones donde la tabla préstamos su estatus sea de prestamo finalizado y su duración mayor a doce meses."
      ],
      "metadata": {
        "id": "QSoM30lBfc4e"
      }
    },
    {
      "cell_type": "code",
      "source": [
        "%%sql\n",
        "SELECT count (*)\n",
        "FROM LOAN\n",
        "WHERE status in (\"A\", \"B\") AND duration > 12"
      ],
      "metadata": {
        "colab": {
          "base_uri": "https://localhost:8080/",
          "height": 96
        },
        "id": "ssYdMnJwfcBZ",
        "outputId": "6675a125-2a34-43a2-d422-5abc912f4eaf"
      },
      "execution_count": null,
      "outputs": [
        {
          "output_type": "stream",
          "name": "stdout",
          "text": [
            " * sqlite:///data_berka.db\n",
            "Done.\n"
          ]
        },
        {
          "output_type": "execute_result",
          "data": {
            "text/plain": [
              "[(131,)]"
            ],
            "text/html": [
              "<table>\n",
              "    <thead>\n",
              "        <tr>\n",
              "            <th>count (*)</th>\n",
              "        </tr>\n",
              "    </thead>\n",
              "    <tbody>\n",
              "        <tr>\n",
              "            <td>131</td>\n",
              "        </tr>\n",
              "    </tbody>\n",
              "</table>"
            ]
          },
          "metadata": {},
          "execution_count": 14
        }
      ]
    },
    {
      "cell_type": "markdown",
      "source": [
        "Ahora puedo saber también cuántos prestamos están en vigor (según diccionario C y D de status)."
      ],
      "metadata": {
        "id": "fqIuSZB9ejcZ"
      }
    },
    {
      "cell_type": "code",
      "source": [
        "%%sql\n",
        "SELECT count (*)\n",
        "FROM LOAN\n",
        "WHERE status in (\"C\", \"D\") "
      ],
      "metadata": {
        "colab": {
          "base_uri": "https://localhost:8080/",
          "height": 96
        },
        "id": "BiIGqucXevEL",
        "outputId": "40ca05e1-98ee-4e97-ea4f-ebdeadc28b2a"
      },
      "execution_count": null,
      "outputs": [
        {
          "output_type": "stream",
          "name": "stdout",
          "text": [
            " * sqlite:///data_berka.db\n",
            "Done.\n"
          ]
        },
        {
          "output_type": "execute_result",
          "data": {
            "text/plain": [
              "[(448,)]"
            ],
            "text/html": [
              "<table>\n",
              "    <thead>\n",
              "        <tr>\n",
              "            <th>count (*)</th>\n",
              "        </tr>\n",
              "    </thead>\n",
              "    <tbody>\n",
              "        <tr>\n",
              "            <td>448</td>\n",
              "        </tr>\n",
              "    </tbody>\n",
              "</table>"
            ]
          },
          "metadata": {},
          "execution_count": 15
        }
      ]
    },
    {
      "cell_type": "markdown",
      "source": [
        "¿cuantos prestamos hay en ejecución (running) con duración entre 24 y 48 meses"
      ],
      "metadata": {
        "id": "laAFYp0_fwDN"
      }
    },
    {
      "cell_type": "code",
      "source": [
        "%%sql\n",
        "SELECT count(*)\n",
        "FROM LOAN\n",
        "WHERE status in (\"C\", \"D\") and duration between 24 and 48"
      ],
      "metadata": {
        "colab": {
          "base_uri": "https://localhost:8080/",
          "height": 96
        },
        "id": "6x27C1YpfuYx",
        "outputId": "f97006eb-6b70-427c-97e7-3076ff1c4700"
      },
      "execution_count": null,
      "outputs": [
        {
          "output_type": "stream",
          "name": "stdout",
          "text": [
            " * sqlite:///data_berka.db\n",
            "Done.\n"
          ]
        },
        {
          "output_type": "execute_result",
          "data": {
            "text/plain": [
              "[(279,)]"
            ],
            "text/html": [
              "<table>\n",
              "    <thead>\n",
              "        <tr>\n",
              "            <th>count(*)</th>\n",
              "        </tr>\n",
              "    </thead>\n",
              "    <tbody>\n",
              "        <tr>\n",
              "            <td>279</td>\n",
              "        </tr>\n",
              "    </tbody>\n",
              "</table>"
            ]
          },
          "metadata": {},
          "execution_count": 16
        }
      ]
    },
    {
      "cell_type": "markdown",
      "source": [
        "Podría haber utilizado operadores relacionales como mayor o igual y menor que, etc.\n",
        "De esta forma nos garantizamos que tenga en cuenta el 24 y el 48 mes."
      ],
      "metadata": {
        "id": "bbT0G8v4ftb2"
      }
    },
    {
      "cell_type": "code",
      "source": [
        "%%sql\n",
        "SELECT count(*)\n",
        "FROM LOAN\n",
        "WHERE status in (\"C\", \"D\") and duration >= 24 and duration <= 48"
      ],
      "metadata": {
        "colab": {
          "base_uri": "https://localhost:8080/",
          "height": 96
        },
        "id": "02QRDRvRfPa8",
        "outputId": "37e907a5-2d0d-4795-a1d0-7aaece2dbe83"
      },
      "execution_count": null,
      "outputs": [
        {
          "output_type": "stream",
          "name": "stdout",
          "text": [
            " * sqlite:///data_berka.db\n",
            "Done.\n"
          ]
        },
        {
          "output_type": "execute_result",
          "data": {
            "text/plain": [
              "[(279,)]"
            ],
            "text/html": [
              "<table>\n",
              "    <thead>\n",
              "        <tr>\n",
              "            <th>count(*)</th>\n",
              "        </tr>\n",
              "    </thead>\n",
              "    <tbody>\n",
              "        <tr>\n",
              "            <td>279</td>\n",
              "        </tr>\n",
              "    </tbody>\n",
              "</table>"
            ]
          },
          "metadata": {},
          "execution_count": 17
        }
      ]
    },
    {
      "cell_type": "markdown",
      "source": [
        "## Group By\n",
        "Combinamos registros con valores idénticos para la lista de campos en un grupo."
      ],
      "metadata": {
        "id": "ZWsgkSMwOJVf"
      }
    },
    {
      "cell_type": "markdown",
      "source": [
        "8. ¿Cuántos préstamos hay por cada estado y cual es la media de la cantidad de dinero prestado?\n",
        "en el select y en group by debe de estar el campo que quiero seleccionar"
      ],
      "metadata": {
        "id": "S0jOtvnnOj5z"
      }
    },
    {
      "cell_type": "markdown",
      "source": [
        "primero vemos cuántos préstamos hay en cada uno de las categorías de status. "
      ],
      "metadata": {
        "id": "yd6rXCXGgZZl"
      }
    },
    {
      "cell_type": "code",
      "source": [
        "%%sql\n",
        "SELECT status, count(*) \n",
        "FROM LOAN\n",
        "GROUP BY status"
      ],
      "metadata": {
        "colab": {
          "base_uri": "https://localhost:8080/"
        },
        "id": "knMAqZLDgIxV",
        "outputId": "dc2b6847-2eac-41bc-f15e-214670ede492"
      },
      "execution_count": null,
      "outputs": [
        {
          "output_type": "stream",
          "name": "stdout",
          "text": [
            " * sqlite:///data_berka.db\n",
            "Done.\n"
          ]
        },
        {
          "output_type": "execute_result",
          "data": {
            "text/plain": [
              "[('A', 203), ('B', 31), ('C', 403), ('D', 45)]"
            ],
            "text/html": [
              "<table>\n",
              "    <thead>\n",
              "        <tr>\n",
              "            <th>status</th>\n",
              "            <th>count(*)</th>\n",
              "        </tr>\n",
              "    </thead>\n",
              "    <tbody>\n",
              "        <tr>\n",
              "            <td>A</td>\n",
              "            <td>203</td>\n",
              "        </tr>\n",
              "        <tr>\n",
              "            <td>B</td>\n",
              "            <td>31</td>\n",
              "        </tr>\n",
              "        <tr>\n",
              "            <td>C</td>\n",
              "            <td>403</td>\n",
              "        </tr>\n",
              "        <tr>\n",
              "            <td>D</td>\n",
              "            <td>45</td>\n",
              "        </tr>\n",
              "    </tbody>\n",
              "</table>"
            ]
          },
          "metadata": {},
          "execution_count": 18
        }
      ]
    },
    {
      "cell_type": "markdown",
      "source": [
        "le impongo cierto orden lógico descendente en cuanto a la cuantía NO respecto a la categorización."
      ],
      "metadata": {
        "id": "xNtQsXOehIO_"
      }
    },
    {
      "cell_type": "code",
      "source": [
        "%%sql\n",
        "SELECT status, count(*) as total\n",
        "FROM LOAN\n",
        "GROUP BY status\n",
        "ORDER BY total DESC"
      ],
      "metadata": {
        "id": "2QIH9ReV61CK",
        "colab": {
          "base_uri": "https://localhost:8080/"
        },
        "outputId": "8800c23d-3d30-478c-b2e8-da12be145e1c"
      },
      "execution_count": null,
      "outputs": [
        {
          "output_type": "stream",
          "name": "stdout",
          "text": [
            " * sqlite:///data_berka.db\n",
            "Done.\n"
          ]
        },
        {
          "output_type": "execute_result",
          "data": {
            "text/plain": [
              "[('C', 403), ('A', 203), ('D', 45), ('B', 31)]"
            ],
            "text/html": [
              "<table>\n",
              "    <thead>\n",
              "        <tr>\n",
              "            <th>status</th>\n",
              "            <th>total</th>\n",
              "        </tr>\n",
              "    </thead>\n",
              "    <tbody>\n",
              "        <tr>\n",
              "            <td>C</td>\n",
              "            <td>403</td>\n",
              "        </tr>\n",
              "        <tr>\n",
              "            <td>A</td>\n",
              "            <td>203</td>\n",
              "        </tr>\n",
              "        <tr>\n",
              "            <td>D</td>\n",
              "            <td>45</td>\n",
              "        </tr>\n",
              "        <tr>\n",
              "            <td>B</td>\n",
              "            <td>31</td>\n",
              "        </tr>\n",
              "    </tbody>\n",
              "</table>"
            ]
          },
          "metadata": {},
          "execution_count": 19
        }
      ]
    },
    {
      "cell_type": "markdown",
      "source": [
        "Añado duración y que lo contabilice en orden descendente."
      ],
      "metadata": {
        "id": "kFhq_HoRocJE"
      }
    },
    {
      "cell_type": "code",
      "source": [
        "%%sql\n",
        "SELECT status, duration, count(*) as total\n",
        "FROM LOAN\n",
        "GROUP BY status, duration\n",
        "ORDER BY total DESC"
      ],
      "metadata": {
        "id": "sWiRU9vDiUM_",
        "colab": {
          "base_uri": "https://localhost:8080/"
        },
        "outputId": "6d7cd72b-09e1-4704-ed37-0a3806239dd5"
      },
      "execution_count": null,
      "outputs": [
        {
          "output_type": "stream",
          "name": "stdout",
          "text": [
            " * sqlite:///data_berka.db\n",
            "Done.\n"
          ]
        },
        {
          "output_type": "execute_result",
          "data": {
            "text/plain": [
              "[('C', 60, 125),\n",
              " ('C', 48, 111),\n",
              " ('A', 12, 93),\n",
              " ('C', 36, 83),\n",
              " ('A', 24, 64),\n",
              " ('C', 24, 57),\n",
              " ('A', 36, 32),\n",
              " ('C', 12, 27),\n",
              " ('D', 60, 16),\n",
              " ('D', 48, 14),\n",
              " ('A', 48, 11),\n",
              " ('B', 24, 11),\n",
              " ('B', 12, 10),\n",
              " ('D', 36, 8),\n",
              " ('B', 36, 7),\n",
              " ('D', 24, 6),\n",
              " ('A', 60, 3),\n",
              " ('B', 48, 2),\n",
              " ('B', 60, 1),\n",
              " ('D', 12, 1)]"
            ],
            "text/html": [
              "<table>\n",
              "    <thead>\n",
              "        <tr>\n",
              "            <th>status</th>\n",
              "            <th>duration</th>\n",
              "            <th>total</th>\n",
              "        </tr>\n",
              "    </thead>\n",
              "    <tbody>\n",
              "        <tr>\n",
              "            <td>C</td>\n",
              "            <td>60</td>\n",
              "            <td>125</td>\n",
              "        </tr>\n",
              "        <tr>\n",
              "            <td>C</td>\n",
              "            <td>48</td>\n",
              "            <td>111</td>\n",
              "        </tr>\n",
              "        <tr>\n",
              "            <td>A</td>\n",
              "            <td>12</td>\n",
              "            <td>93</td>\n",
              "        </tr>\n",
              "        <tr>\n",
              "            <td>C</td>\n",
              "            <td>36</td>\n",
              "            <td>83</td>\n",
              "        </tr>\n",
              "        <tr>\n",
              "            <td>A</td>\n",
              "            <td>24</td>\n",
              "            <td>64</td>\n",
              "        </tr>\n",
              "        <tr>\n",
              "            <td>C</td>\n",
              "            <td>24</td>\n",
              "            <td>57</td>\n",
              "        </tr>\n",
              "        <tr>\n",
              "            <td>A</td>\n",
              "            <td>36</td>\n",
              "            <td>32</td>\n",
              "        </tr>\n",
              "        <tr>\n",
              "            <td>C</td>\n",
              "            <td>12</td>\n",
              "            <td>27</td>\n",
              "        </tr>\n",
              "        <tr>\n",
              "            <td>D</td>\n",
              "            <td>60</td>\n",
              "            <td>16</td>\n",
              "        </tr>\n",
              "        <tr>\n",
              "            <td>D</td>\n",
              "            <td>48</td>\n",
              "            <td>14</td>\n",
              "        </tr>\n",
              "        <tr>\n",
              "            <td>A</td>\n",
              "            <td>48</td>\n",
              "            <td>11</td>\n",
              "        </tr>\n",
              "        <tr>\n",
              "            <td>B</td>\n",
              "            <td>24</td>\n",
              "            <td>11</td>\n",
              "        </tr>\n",
              "        <tr>\n",
              "            <td>B</td>\n",
              "            <td>12</td>\n",
              "            <td>10</td>\n",
              "        </tr>\n",
              "        <tr>\n",
              "            <td>D</td>\n",
              "            <td>36</td>\n",
              "            <td>8</td>\n",
              "        </tr>\n",
              "        <tr>\n",
              "            <td>B</td>\n",
              "            <td>36</td>\n",
              "            <td>7</td>\n",
              "        </tr>\n",
              "        <tr>\n",
              "            <td>D</td>\n",
              "            <td>24</td>\n",
              "            <td>6</td>\n",
              "        </tr>\n",
              "        <tr>\n",
              "            <td>A</td>\n",
              "            <td>60</td>\n",
              "            <td>3</td>\n",
              "        </tr>\n",
              "        <tr>\n",
              "            <td>B</td>\n",
              "            <td>48</td>\n",
              "            <td>2</td>\n",
              "        </tr>\n",
              "        <tr>\n",
              "            <td>B</td>\n",
              "            <td>60</td>\n",
              "            <td>1</td>\n",
              "        </tr>\n",
              "        <tr>\n",
              "            <td>D</td>\n",
              "            <td>12</td>\n",
              "            <td>1</td>\n",
              "        </tr>\n",
              "    </tbody>\n",
              "</table>"
            ]
          },
          "metadata": {},
          "execution_count": 20
        }
      ]
    },
    {
      "cell_type": "markdown",
      "source": [
        "Ahora calculo calculo la media (que lo ponía al inicio del ejercicio) AVG. Añado la media de cantidad de dinero prestada."
      ],
      "metadata": {
        "id": "Ug6pmycoijf5"
      }
    },
    {
      "cell_type": "code",
      "source": [
        "%%sql\n",
        "SELECT status, count(*) as total, avg (amount)\n",
        "FROM LOAN\n",
        "GROUP BY status\n",
        "ORDER BY total DESC"
      ],
      "metadata": {
        "colab": {
          "base_uri": "https://localhost:8080/"
        },
        "id": "zD5uRuZKijPB",
        "outputId": "6699772d-cbf4-4df6-a2ab-b2a4123a48d9"
      },
      "execution_count": null,
      "outputs": [
        {
          "output_type": "stream",
          "name": "stdout",
          "text": [
            " * sqlite:///data_berka.db\n",
            "Done.\n"
          ]
        },
        {
          "output_type": "execute_result",
          "data": {
            "text/plain": [
              "[('C', 403, 171410.3523573201),\n",
              " ('A', 203, 91641.45812807881),\n",
              " ('D', 45, 249284.53333333333),\n",
              " ('B', 31, 140720.90322580645)]"
            ],
            "text/html": [
              "<table>\n",
              "    <thead>\n",
              "        <tr>\n",
              "            <th>status</th>\n",
              "            <th>total</th>\n",
              "            <th>avg (amount)</th>\n",
              "        </tr>\n",
              "    </thead>\n",
              "    <tbody>\n",
              "        <tr>\n",
              "            <td>C</td>\n",
              "            <td>403</td>\n",
              "            <td>171410.3523573201</td>\n",
              "        </tr>\n",
              "        <tr>\n",
              "            <td>A</td>\n",
              "            <td>203</td>\n",
              "            <td>91641.45812807881</td>\n",
              "        </tr>\n",
              "        <tr>\n",
              "            <td>D</td>\n",
              "            <td>45</td>\n",
              "            <td>249284.53333333333</td>\n",
              "        </tr>\n",
              "        <tr>\n",
              "            <td>B</td>\n",
              "            <td>31</td>\n",
              "            <td>140720.90322580645</td>\n",
              "        </tr>\n",
              "    </tbody>\n",
              "</table>"
            ]
          },
          "metadata": {},
          "execution_count": 21
        }
      ]
    },
    {
      "cell_type": "markdown",
      "source": [
        "Ahora que dure más de 24 meses.\n"
      ],
      "metadata": {
        "id": "jobWAtn4rh5K"
      }
    },
    {
      "cell_type": "code",
      "source": [
        "%%sql\n",
        "SELECT status, count(*) as total, avg (amount)\n",
        "FROM LOAN\n",
        "WHERE duration >= 24\n",
        "GROUP BY status\n",
        "ORDER BY total DESC"
      ],
      "metadata": {
        "id": "zMVq2XIRi_g5",
        "colab": {
          "base_uri": "https://localhost:8080/"
        },
        "outputId": "c8ec541e-4b38-40c7-fb7b-c3c23df73c2f"
      },
      "execution_count": null,
      "outputs": [
        {
          "output_type": "stream",
          "name": "stdout",
          "text": [
            " * sqlite:///data_berka.db\n",
            "Done.\n"
          ]
        },
        {
          "output_type": "execute_result",
          "data": {
            "text/plain": [
              "[('C', 376, 180343.1489361702),\n",
              " ('A', 110, 122425.2),\n",
              " ('D', 44, 254127.27272727274),\n",
              " ('B', 21, 179909.14285714287)]"
            ],
            "text/html": [
              "<table>\n",
              "    <thead>\n",
              "        <tr>\n",
              "            <th>status</th>\n",
              "            <th>total</th>\n",
              "            <th>avg (amount)</th>\n",
              "        </tr>\n",
              "    </thead>\n",
              "    <tbody>\n",
              "        <tr>\n",
              "            <td>C</td>\n",
              "            <td>376</td>\n",
              "            <td>180343.1489361702</td>\n",
              "        </tr>\n",
              "        <tr>\n",
              "            <td>A</td>\n",
              "            <td>110</td>\n",
              "            <td>122425.2</td>\n",
              "        </tr>\n",
              "        <tr>\n",
              "            <td>D</td>\n",
              "            <td>44</td>\n",
              "            <td>254127.27272727274</td>\n",
              "        </tr>\n",
              "        <tr>\n",
              "            <td>B</td>\n",
              "            <td>21</td>\n",
              "            <td>179909.14285714287</td>\n",
              "        </tr>\n",
              "    </tbody>\n",
              "</table>"
            ]
          },
          "metadata": {},
          "execution_count": 22
        }
      ]
    },
    {
      "cell_type": "markdown",
      "source": [
        "Con el Having se filtran los grupos tras obtenerlos. Es decir filtra los registros agrupados que satisfagan las condiciones del HAVING.\n",
        "WHERE se filtran los registros antes de agruparlos\n",
        "Con el having se filtran los grupos tras obtenerlos.\n"
      ],
      "metadata": {
        "id": "nfwBNRWqi_PT"
      }
    },
    {
      "cell_type": "code",
      "source": [
        "%%sql\n",
        "SELECT status, count(*) as total, avg (amount)\n",
        "FROM LOAN\n",
        "WHERE duration >= 24\n",
        "GROUP BY status\n",
        "HAVING total > 25\n",
        "ORDER BY total DESC"
      ],
      "metadata": {
        "id": "BBuVZqusjXts",
        "colab": {
          "base_uri": "https://localhost:8080/"
        },
        "outputId": "10ce70bd-4c68-4f34-b68d-15813f0bddbb"
      },
      "execution_count": null,
      "outputs": [
        {
          "output_type": "stream",
          "name": "stdout",
          "text": [
            " * sqlite:///data_berka.db\n",
            "Done.\n"
          ]
        },
        {
          "output_type": "execute_result",
          "data": {
            "text/plain": [
              "[('C', 376, 180343.1489361702),\n",
              " ('A', 110, 122425.2),\n",
              " ('D', 44, 254127.27272727274)]"
            ],
            "text/html": [
              "<table>\n",
              "    <thead>\n",
              "        <tr>\n",
              "            <th>status</th>\n",
              "            <th>total</th>\n",
              "            <th>avg (amount)</th>\n",
              "        </tr>\n",
              "    </thead>\n",
              "    <tbody>\n",
              "        <tr>\n",
              "            <td>C</td>\n",
              "            <td>376</td>\n",
              "            <td>180343.1489361702</td>\n",
              "        </tr>\n",
              "        <tr>\n",
              "            <td>A</td>\n",
              "            <td>110</td>\n",
              "            <td>122425.2</td>\n",
              "        </tr>\n",
              "        <tr>\n",
              "            <td>D</td>\n",
              "            <td>44</td>\n",
              "            <td>254127.27272727274</td>\n",
              "        </tr>\n",
              "    </tbody>\n",
              "</table>"
            ]
          },
          "metadata": {},
          "execution_count": 23
        }
      ]
    },
    {
      "cell_type": "markdown",
      "source": [
        "9. Por cada Región, quiero contar el número de ciudades y obtener el total del número de habitantes de la región\n",
        "NO CONSIDERAR LA REGIÓN DE PRAGA. \n",
        "POR FAVOR, CONFIRMADME SI ES CORRECTO,\n",
        "\n"
      ],
      "metadata": {
        "id": "eDvofbeROKvn"
      }
    },
    {
      "cell_type": "code",
      "source": [
        "%%sql\n",
        "SELECT A3, count(A9) as total, SUM(A4)  \n",
        "FROM DISTRICT\n",
        "WHERE A3 is not (\"Prague\") \n",
        "GROUP BY A3\n",
        "ORDER BY total DESC\n",
        "limit 8\n",
        "\n"
      ],
      "metadata": {
        "colab": {
          "base_uri": "https://localhost:8080/"
        },
        "id": "ATZvJCJdz4ik",
        "outputId": "19c8a14b-be4c-4543-c0bb-6075dd9d2fbb"
      },
      "execution_count": null,
      "outputs": [
        {
          "output_type": "stream",
          "name": "stdout",
          "text": [
            " * sqlite:///data_berka.db\n",
            "Done.\n"
          ]
        },
        {
          "output_type": "execute_result",
          "data": {
            "text/plain": [
              "[('south Moravia', 14, 2054989),\n",
              " ('central Bohemia', 12, 1105234),\n",
              " ('east Bohemia', 11, 1234781),\n",
              " ('north Moravia', 11, 1970302),\n",
              " ('north Bohemia', 10, 1178977),\n",
              " ('west Bohemia', 10, 859306),\n",
              " ('south Bohemia', 8, 700595)]"
            ],
            "text/html": [
              "<table>\n",
              "    <thead>\n",
              "        <tr>\n",
              "            <th>A3</th>\n",
              "            <th>total</th>\n",
              "            <th>SUM(A4)</th>\n",
              "        </tr>\n",
              "    </thead>\n",
              "    <tbody>\n",
              "        <tr>\n",
              "            <td>south Moravia</td>\n",
              "            <td>14</td>\n",
              "            <td>2054989</td>\n",
              "        </tr>\n",
              "        <tr>\n",
              "            <td>central Bohemia</td>\n",
              "            <td>12</td>\n",
              "            <td>1105234</td>\n",
              "        </tr>\n",
              "        <tr>\n",
              "            <td>east Bohemia</td>\n",
              "            <td>11</td>\n",
              "            <td>1234781</td>\n",
              "        </tr>\n",
              "        <tr>\n",
              "            <td>north Moravia</td>\n",
              "            <td>11</td>\n",
              "            <td>1970302</td>\n",
              "        </tr>\n",
              "        <tr>\n",
              "            <td>north Bohemia</td>\n",
              "            <td>10</td>\n",
              "            <td>1178977</td>\n",
              "        </tr>\n",
              "        <tr>\n",
              "            <td>west Bohemia</td>\n",
              "            <td>10</td>\n",
              "            <td>859306</td>\n",
              "        </tr>\n",
              "        <tr>\n",
              "            <td>south Bohemia</td>\n",
              "            <td>8</td>\n",
              "            <td>700595</td>\n",
              "        </tr>\n",
              "    </tbody>\n",
              "</table>"
            ]
          },
          "metadata": {},
          "execution_count": 24
        }
      ]
    },
    {
      "cell_type": "markdown",
      "source": [
        "10. Contar ordenes permanentes (domiciliaciones) por banco y tipo de transacción"
      ],
      "metadata": {
        "id": "4L4mxgoPOvnm"
      }
    },
    {
      "cell_type": "code",
      "source": [
        "%%sql\n",
        "SELECT *\n",
        "FROM PERMANENT_ORDER\n",
        "limit 20"
      ],
      "metadata": {
        "colab": {
          "base_uri": "https://localhost:8080/"
        },
        "id": "CM7Tw0sqdozb",
        "outputId": "7fa24446-4daa-453d-bd6f-9d9519325a4e"
      },
      "execution_count": null,
      "outputs": [
        {
          "output_type": "stream",
          "name": "stdout",
          "text": [
            " * sqlite:///data_berka.db\n",
            "Done.\n"
          ]
        },
        {
          "output_type": "execute_result",
          "data": {
            "text/plain": [
              "[(29401, 1, 'YZ', '87144583', 2452, 'SIPO'),\n",
              " (29402, 2, 'ST', '89597016', 3372.7, 'UVER'),\n",
              " (29403, 2, 'QR', '13943797', 7266, 'SIPO'),\n",
              " (29404, 3, 'WX', '83084338', 1135, 'SIPO'),\n",
              " (29405, 3, 'CD', '24485939', 327, ' '),\n",
              " (29406, 3, 'AB', '59972357', 3539, 'POJISTNE'),\n",
              " (29407, 4, 'UV', '26693541', 2078, 'SIPO'),\n",
              " (29408, 4, 'UV', '5848086', 1285, 'SIPO'),\n",
              " (29409, 5, 'GH', '37390208', 2668, 'SIPO'),\n",
              " (29410, 6, 'AB', '44486999', 3954, 'SIPO'),\n",
              " (29411, 7, 'IJ', '34452903', 4880, 'SIPO'),\n",
              " (29412, 8, 'UV', '12510681', 2612, 'SIPO'),\n",
              " (29413, 8, 'IJ', '93210345', 6712, ' '),\n",
              " (29414, 10, 'UV', '18686104', 7033, 'SIPO'),\n",
              " (29415, 10, 'QR', '93182509', 1344, 'LEASING'),\n",
              " (29416, 11, 'ST', '38470870', 2132, 'SIPO'),\n",
              " (29417, 12, 'CD', '23010808', 297, 'SIPO'),\n",
              " (29418, 12, 'KL', '63607060', 3295, 'SIPO'),\n",
              " (29419, 13, 'EF', '35443323', 2444, 'SIPO'),\n",
              " (29420, 14, 'WX', '11793136', 3629, 'SIPO')]"
            ],
            "text/html": [
              "<table>\n",
              "    <thead>\n",
              "        <tr>\n",
              "            <th>order_id</th>\n",
              "            <th>account_id</th>\n",
              "            <th>bank_to</th>\n",
              "            <th>account_to</th>\n",
              "            <th>amount</th>\n",
              "            <th>k_symbol</th>\n",
              "        </tr>\n",
              "    </thead>\n",
              "    <tbody>\n",
              "        <tr>\n",
              "            <td>29401</td>\n",
              "            <td>1</td>\n",
              "            <td>YZ</td>\n",
              "            <td>87144583</td>\n",
              "            <td>2452</td>\n",
              "            <td>SIPO</td>\n",
              "        </tr>\n",
              "        <tr>\n",
              "            <td>29402</td>\n",
              "            <td>2</td>\n",
              "            <td>ST</td>\n",
              "            <td>89597016</td>\n",
              "            <td>3372.7</td>\n",
              "            <td>UVER</td>\n",
              "        </tr>\n",
              "        <tr>\n",
              "            <td>29403</td>\n",
              "            <td>2</td>\n",
              "            <td>QR</td>\n",
              "            <td>13943797</td>\n",
              "            <td>7266</td>\n",
              "            <td>SIPO</td>\n",
              "        </tr>\n",
              "        <tr>\n",
              "            <td>29404</td>\n",
              "            <td>3</td>\n",
              "            <td>WX</td>\n",
              "            <td>83084338</td>\n",
              "            <td>1135</td>\n",
              "            <td>SIPO</td>\n",
              "        </tr>\n",
              "        <tr>\n",
              "            <td>29405</td>\n",
              "            <td>3</td>\n",
              "            <td>CD</td>\n",
              "            <td>24485939</td>\n",
              "            <td>327</td>\n",
              "            <td> </td>\n",
              "        </tr>\n",
              "        <tr>\n",
              "            <td>29406</td>\n",
              "            <td>3</td>\n",
              "            <td>AB</td>\n",
              "            <td>59972357</td>\n",
              "            <td>3539</td>\n",
              "            <td>POJISTNE</td>\n",
              "        </tr>\n",
              "        <tr>\n",
              "            <td>29407</td>\n",
              "            <td>4</td>\n",
              "            <td>UV</td>\n",
              "            <td>26693541</td>\n",
              "            <td>2078</td>\n",
              "            <td>SIPO</td>\n",
              "        </tr>\n",
              "        <tr>\n",
              "            <td>29408</td>\n",
              "            <td>4</td>\n",
              "            <td>UV</td>\n",
              "            <td>5848086</td>\n",
              "            <td>1285</td>\n",
              "            <td>SIPO</td>\n",
              "        </tr>\n",
              "        <tr>\n",
              "            <td>29409</td>\n",
              "            <td>5</td>\n",
              "            <td>GH</td>\n",
              "            <td>37390208</td>\n",
              "            <td>2668</td>\n",
              "            <td>SIPO</td>\n",
              "        </tr>\n",
              "        <tr>\n",
              "            <td>29410</td>\n",
              "            <td>6</td>\n",
              "            <td>AB</td>\n",
              "            <td>44486999</td>\n",
              "            <td>3954</td>\n",
              "            <td>SIPO</td>\n",
              "        </tr>\n",
              "        <tr>\n",
              "            <td>29411</td>\n",
              "            <td>7</td>\n",
              "            <td>IJ</td>\n",
              "            <td>34452903</td>\n",
              "            <td>4880</td>\n",
              "            <td>SIPO</td>\n",
              "        </tr>\n",
              "        <tr>\n",
              "            <td>29412</td>\n",
              "            <td>8</td>\n",
              "            <td>UV</td>\n",
              "            <td>12510681</td>\n",
              "            <td>2612</td>\n",
              "            <td>SIPO</td>\n",
              "        </tr>\n",
              "        <tr>\n",
              "            <td>29413</td>\n",
              "            <td>8</td>\n",
              "            <td>IJ</td>\n",
              "            <td>93210345</td>\n",
              "            <td>6712</td>\n",
              "            <td> </td>\n",
              "        </tr>\n",
              "        <tr>\n",
              "            <td>29414</td>\n",
              "            <td>10</td>\n",
              "            <td>UV</td>\n",
              "            <td>18686104</td>\n",
              "            <td>7033</td>\n",
              "            <td>SIPO</td>\n",
              "        </tr>\n",
              "        <tr>\n",
              "            <td>29415</td>\n",
              "            <td>10</td>\n",
              "            <td>QR</td>\n",
              "            <td>93182509</td>\n",
              "            <td>1344</td>\n",
              "            <td>LEASING</td>\n",
              "        </tr>\n",
              "        <tr>\n",
              "            <td>29416</td>\n",
              "            <td>11</td>\n",
              "            <td>ST</td>\n",
              "            <td>38470870</td>\n",
              "            <td>2132</td>\n",
              "            <td>SIPO</td>\n",
              "        </tr>\n",
              "        <tr>\n",
              "            <td>29417</td>\n",
              "            <td>12</td>\n",
              "            <td>CD</td>\n",
              "            <td>23010808</td>\n",
              "            <td>297</td>\n",
              "            <td>SIPO</td>\n",
              "        </tr>\n",
              "        <tr>\n",
              "            <td>29418</td>\n",
              "            <td>12</td>\n",
              "            <td>KL</td>\n",
              "            <td>63607060</td>\n",
              "            <td>3295</td>\n",
              "            <td>SIPO</td>\n",
              "        </tr>\n",
              "        <tr>\n",
              "            <td>29419</td>\n",
              "            <td>13</td>\n",
              "            <td>EF</td>\n",
              "            <td>35443323</td>\n",
              "            <td>2444</td>\n",
              "            <td>SIPO</td>\n",
              "        </tr>\n",
              "        <tr>\n",
              "            <td>29420</td>\n",
              "            <td>14</td>\n",
              "            <td>WX</td>\n",
              "            <td>11793136</td>\n",
              "            <td>3629</td>\n",
              "            <td>SIPO</td>\n",
              "        </tr>\n",
              "    </tbody>\n",
              "</table>"
            ]
          },
          "metadata": {},
          "execution_count": 25
        }
      ]
    },
    {
      "cell_type": "code",
      "source": [
        "%%sql\n",
        "SELECT count(order_id), bank_to, k_symbol  \n",
        "FROM PERMANENT_ORDER\n",
        "GROUP BY bank_to, k_symbol\n",
        "limit 8"
      ],
      "metadata": {
        "id": "j04p6m3T6-wP",
        "colab": {
          "base_uri": "https://localhost:8080/"
        },
        "outputId": "222e7629-8d8f-49a1-fd4e-4a37d7188c22"
      },
      "execution_count": null,
      "outputs": [
        {
          "output_type": "stream",
          "name": "stdout",
          "text": [
            " * sqlite:///data_berka.db\n",
            "Done.\n"
          ]
        },
        {
          "output_type": "execute_result",
          "data": {
            "text/plain": [
              "[(113, 'AB', ' '),\n",
              " (24, 'AB', 'LEASING'),\n",
              " (46, 'AB', 'POJISTNE'),\n",
              " (278, 'AB', 'SIPO'),\n",
              " (58, 'AB', 'UVER'),\n",
              " (94, 'CD', ' '),\n",
              " (23, 'CD', 'LEASING'),\n",
              " (28, 'CD', 'POJISTNE')]"
            ],
            "text/html": [
              "<table>\n",
              "    <thead>\n",
              "        <tr>\n",
              "            <th>count(order_id)</th>\n",
              "            <th>bank_to</th>\n",
              "            <th>k_symbol</th>\n",
              "        </tr>\n",
              "    </thead>\n",
              "    <tbody>\n",
              "        <tr>\n",
              "            <td>113</td>\n",
              "            <td>AB</td>\n",
              "            <td> </td>\n",
              "        </tr>\n",
              "        <tr>\n",
              "            <td>24</td>\n",
              "            <td>AB</td>\n",
              "            <td>LEASING</td>\n",
              "        </tr>\n",
              "        <tr>\n",
              "            <td>46</td>\n",
              "            <td>AB</td>\n",
              "            <td>POJISTNE</td>\n",
              "        </tr>\n",
              "        <tr>\n",
              "            <td>278</td>\n",
              "            <td>AB</td>\n",
              "            <td>SIPO</td>\n",
              "        </tr>\n",
              "        <tr>\n",
              "            <td>58</td>\n",
              "            <td>AB</td>\n",
              "            <td>UVER</td>\n",
              "        </tr>\n",
              "        <tr>\n",
              "            <td>94</td>\n",
              "            <td>CD</td>\n",
              "            <td> </td>\n",
              "        </tr>\n",
              "        <tr>\n",
              "            <td>23</td>\n",
              "            <td>CD</td>\n",
              "            <td>LEASING</td>\n",
              "        </tr>\n",
              "        <tr>\n",
              "            <td>28</td>\n",
              "            <td>CD</td>\n",
              "            <td>POJISTNE</td>\n",
              "        </tr>\n",
              "    </tbody>\n",
              "</table>"
            ]
          },
          "metadata": {},
          "execution_count": 26
        }
      ]
    },
    {
      "cell_type": "markdown",
      "source": [
        "# JOIN"
      ],
      "metadata": {
        "id": "mjAZv9zYO5Jm"
      }
    },
    {
      "cell_type": "markdown",
      "source": [
        "Con join realizo el producto cartesiano de dos relaciones (tablas).\n",
        "A su vez podemos realizar consultas de varias tablas y recibe el producto cartesiano de todas las posibles combinaciones entre las tuplas de las relaciones involucradas pero debo de decirle que algunas columnas son iguales para que no las duplique."
      ],
      "metadata": {
        "id": "W-KbHF9XkIEL"
      }
    },
    {
      "cell_type": "markdown",
      "metadata": {
        "id": "pYMAOe0VG3aH"
      },
      "source": [
        "11. ¿Cuántas cuentas de frecuencia mensual tienen un un préstamo activo?\n",
        "\n"
      ]
    },
    {
      "cell_type": "code",
      "source": [
        "%%sql\n",
        "SELECT *\n",
        "FROM LOAN\n",
        "limit 5"
      ],
      "metadata": {
        "colab": {
          "base_uri": "https://localhost:8080/",
          "height": 182
        },
        "id": "76a-zQykeMFR",
        "outputId": "87893bb5-3015-4ffc-8d3d-64dbd126324e"
      },
      "execution_count": null,
      "outputs": [
        {
          "output_type": "stream",
          "name": "stdout",
          "text": [
            " * sqlite:///data_berka.db\n",
            "Done.\n"
          ]
        },
        {
          "output_type": "execute_result",
          "data": {
            "text/plain": [
              "[(5314, 1787, 930705, 96396, 12, 8033, 'B'),\n",
              " (5316, 1801, 930711, 165960, 36, 4610, 'A'),\n",
              " (6863, 9188, 930728, 127080, 60, 2118, 'A'),\n",
              " (5325, 1843, 930803, 105804, 36, 2939, 'A'),\n",
              " (7240, 11013, 930906, 274740, 60, 4579, 'A')]"
            ],
            "text/html": [
              "<table>\n",
              "    <thead>\n",
              "        <tr>\n",
              "            <th>loan_id</th>\n",
              "            <th>account_id</th>\n",
              "            <th>date</th>\n",
              "            <th>amount</th>\n",
              "            <th>duration</th>\n",
              "            <th>payments</th>\n",
              "            <th>status</th>\n",
              "        </tr>\n",
              "    </thead>\n",
              "    <tbody>\n",
              "        <tr>\n",
              "            <td>5314</td>\n",
              "            <td>1787</td>\n",
              "            <td>930705</td>\n",
              "            <td>96396</td>\n",
              "            <td>12</td>\n",
              "            <td>8033</td>\n",
              "            <td>B</td>\n",
              "        </tr>\n",
              "        <tr>\n",
              "            <td>5316</td>\n",
              "            <td>1801</td>\n",
              "            <td>930711</td>\n",
              "            <td>165960</td>\n",
              "            <td>36</td>\n",
              "            <td>4610</td>\n",
              "            <td>A</td>\n",
              "        </tr>\n",
              "        <tr>\n",
              "            <td>6863</td>\n",
              "            <td>9188</td>\n",
              "            <td>930728</td>\n",
              "            <td>127080</td>\n",
              "            <td>60</td>\n",
              "            <td>2118</td>\n",
              "            <td>A</td>\n",
              "        </tr>\n",
              "        <tr>\n",
              "            <td>5325</td>\n",
              "            <td>1843</td>\n",
              "            <td>930803</td>\n",
              "            <td>105804</td>\n",
              "            <td>36</td>\n",
              "            <td>2939</td>\n",
              "            <td>A</td>\n",
              "        </tr>\n",
              "        <tr>\n",
              "            <td>7240</td>\n",
              "            <td>11013</td>\n",
              "            <td>930906</td>\n",
              "            <td>274740</td>\n",
              "            <td>60</td>\n",
              "            <td>4579</td>\n",
              "            <td>A</td>\n",
              "        </tr>\n",
              "    </tbody>\n",
              "</table>"
            ]
          },
          "metadata": {},
          "execution_count": 27
        }
      ]
    },
    {
      "cell_type": "markdown",
      "source": [
        "En este caso la columna account la tengo tanto en la tabla LOAN (préstamos) como en la tabla ACCOUNT (cuentas), por lo que se lo explico igualándolos, reclasifico el nombre de las tablas con l y a. Le digo que la frecuencia sea mensual (podrá ser semanal weekly o diario daily)"
      ],
      "metadata": {
        "id": "XnclT5Q9h3pf"
      }
    },
    {
      "cell_type": "code",
      "source": [
        "%%sql\n",
        "SELECT count(*) \n",
        "FROM LOAN l, ACCOUNT a\n",
        "WHERE l.account_id = a.account_id\n",
        "and frequency = \"monthly\"\n",
        "and status in (\"C\", \"D\")\n"
      ],
      "metadata": {
        "colab": {
          "base_uri": "https://localhost:8080/",
          "height": 96
        },
        "id": "OQkzqMa1fVcI",
        "outputId": "812d389a-009f-4025-f7f8-3a8b6fe92ced"
      },
      "execution_count": null,
      "outputs": [
        {
          "output_type": "stream",
          "name": "stdout",
          "text": [
            " * sqlite:///data_berka.db\n",
            "Done.\n"
          ]
        },
        {
          "output_type": "execute_result",
          "data": {
            "text/plain": [
              "[(369,)]"
            ],
            "text/html": [
              "<table>\n",
              "    <thead>\n",
              "        <tr>\n",
              "            <th>count(*)</th>\n",
              "        </tr>\n",
              "    </thead>\n",
              "    <tbody>\n",
              "        <tr>\n",
              "            <td>369</td>\n",
              "        </tr>\n",
              "    </tbody>\n",
              "</table>"
            ]
          },
          "metadata": {},
          "execution_count": 28
        }
      ]
    },
    {
      "cell_type": "markdown",
      "source": [
        "Ejemplos de varios join"
      ],
      "metadata": {
        "id": "CbzgSJVrpu4h"
      }
    },
    {
      "cell_type": "code",
      "source": [
        "%%sql\n",
        "SELECT loan_id, A4, A9, A10, A11, c.birth_number, l.date loan_date, amount, duration, payments, frequency, a.date acc_date, status\n",
        "FROM LOAN l, ACCOUNT a, DISTRICT d, DISPOSITION dp, CLIENT c\n",
        "WHERE l.account_id = a.account_id -- join account y loan\n",
        "AND a.district_id = d.A1 -- join district y account\n",
        "AND dp.account_id = a.account_id -- join disposition y account\n",
        "AND dp.client_id = c.client_id -- join disposition y client\n",
        "AND status in (\"A\", \"B\")\n",
        "ORDER BY amount DESC, a.date DESC\n",
        "LIMIT 10"
      ],
      "metadata": {
        "id": "vhxaHOZCrKGC",
        "colab": {
          "base_uri": "https://localhost:8080/",
          "height": 289
        },
        "outputId": "f4882c5e-712b-4fd3-d6c1-b37f6c7c2ddf"
      },
      "execution_count": null,
      "outputs": [
        {
          "output_type": "stream",
          "name": "stdout",
          "text": [
            " * sqlite:///data_berka.db\n",
            "Done.\n"
          ]
        },
        {
          "output_type": "execute_result",
          "data": {
            "text/plain": [
              "[(6228, 77963, 4, 51.5, 8546, '406202', 931201, 464520, 60, 7742, 'weekly', 930319, 'B'),\n",
              " (6038, 1204953, 1, 100.0, 12541, '406015', 940810, 323472, 48, 6739, 'monthly', 930621, 'A'),\n",
              " (5918, 67298, 7, 43.8, 8561, '640313', 940604, 300204, 36, 8339, 'monthly', 930605, 'A'),\n",
              " (5395, 106054, 6, 63.1, 8110, '666210', 940730, 299088, 36, 8308, 'monthly', 930606, 'B'),\n",
              " (6526, 86513, 5, 50.5, 8288, '586026', 950103, 288468, 36, 8013, 'monthly', 940829, 'A'),\n",
              " (6232, 124605, 8, 46.0, 8772, '490518', 940708, 276660, 36, 7685, 'monthly', 930828, 'B'),\n",
              " (7240, 1204953, 1, 100.0, 12541, '780907', 930906, 274740, 60, 4579, 'weekly', 930214, 'A'),\n",
              " (6244, 1204953, 1, 100.0, 12541, '371104', 950108, 270648, 36, 7518, 'weekly', 940307, 'B'),\n",
              " (6725, 51428, 4, 52.7, 8402, '485828', 950623, 265320, 36, 7370, 'monthly', 930918, 'A'),\n",
              " (6725, 51428, 4, 52.7, 8402, '501204', 950623, 265320, 36, 7370, 'monthly', 930918, 'A')]"
            ],
            "text/html": [
              "<table>\n",
              "    <thead>\n",
              "        <tr>\n",
              "            <th>loan_id</th>\n",
              "            <th>A4</th>\n",
              "            <th>A9</th>\n",
              "            <th>A10</th>\n",
              "            <th>A11</th>\n",
              "            <th>birth_number</th>\n",
              "            <th>loan_date</th>\n",
              "            <th>amount</th>\n",
              "            <th>duration</th>\n",
              "            <th>payments</th>\n",
              "            <th>frequency</th>\n",
              "            <th>acc_date</th>\n",
              "            <th>status</th>\n",
              "        </tr>\n",
              "    </thead>\n",
              "    <tbody>\n",
              "        <tr>\n",
              "            <td>6228</td>\n",
              "            <td>77963</td>\n",
              "            <td>4</td>\n",
              "            <td>51.5</td>\n",
              "            <td>8546</td>\n",
              "            <td>406202</td>\n",
              "            <td>931201</td>\n",
              "            <td>464520</td>\n",
              "            <td>60</td>\n",
              "            <td>7742</td>\n",
              "            <td>weekly</td>\n",
              "            <td>930319</td>\n",
              "            <td>B</td>\n",
              "        </tr>\n",
              "        <tr>\n",
              "            <td>6038</td>\n",
              "            <td>1204953</td>\n",
              "            <td>1</td>\n",
              "            <td>100.0</td>\n",
              "            <td>12541</td>\n",
              "            <td>406015</td>\n",
              "            <td>940810</td>\n",
              "            <td>323472</td>\n",
              "            <td>48</td>\n",
              "            <td>6739</td>\n",
              "            <td>monthly</td>\n",
              "            <td>930621</td>\n",
              "            <td>A</td>\n",
              "        </tr>\n",
              "        <tr>\n",
              "            <td>5918</td>\n",
              "            <td>67298</td>\n",
              "            <td>7</td>\n",
              "            <td>43.8</td>\n",
              "            <td>8561</td>\n",
              "            <td>640313</td>\n",
              "            <td>940604</td>\n",
              "            <td>300204</td>\n",
              "            <td>36</td>\n",
              "            <td>8339</td>\n",
              "            <td>monthly</td>\n",
              "            <td>930605</td>\n",
              "            <td>A</td>\n",
              "        </tr>\n",
              "        <tr>\n",
              "            <td>5395</td>\n",
              "            <td>106054</td>\n",
              "            <td>6</td>\n",
              "            <td>63.1</td>\n",
              "            <td>8110</td>\n",
              "            <td>666210</td>\n",
              "            <td>940730</td>\n",
              "            <td>299088</td>\n",
              "            <td>36</td>\n",
              "            <td>8308</td>\n",
              "            <td>monthly</td>\n",
              "            <td>930606</td>\n",
              "            <td>B</td>\n",
              "        </tr>\n",
              "        <tr>\n",
              "            <td>6526</td>\n",
              "            <td>86513</td>\n",
              "            <td>5</td>\n",
              "            <td>50.5</td>\n",
              "            <td>8288</td>\n",
              "            <td>586026</td>\n",
              "            <td>950103</td>\n",
              "            <td>288468</td>\n",
              "            <td>36</td>\n",
              "            <td>8013</td>\n",
              "            <td>monthly</td>\n",
              "            <td>940829</td>\n",
              "            <td>A</td>\n",
              "        </tr>\n",
              "        <tr>\n",
              "            <td>6232</td>\n",
              "            <td>124605</td>\n",
              "            <td>8</td>\n",
              "            <td>46.0</td>\n",
              "            <td>8772</td>\n",
              "            <td>490518</td>\n",
              "            <td>940708</td>\n",
              "            <td>276660</td>\n",
              "            <td>36</td>\n",
              "            <td>7685</td>\n",
              "            <td>monthly</td>\n",
              "            <td>930828</td>\n",
              "            <td>B</td>\n",
              "        </tr>\n",
              "        <tr>\n",
              "            <td>7240</td>\n",
              "            <td>1204953</td>\n",
              "            <td>1</td>\n",
              "            <td>100.0</td>\n",
              "            <td>12541</td>\n",
              "            <td>780907</td>\n",
              "            <td>930906</td>\n",
              "            <td>274740</td>\n",
              "            <td>60</td>\n",
              "            <td>4579</td>\n",
              "            <td>weekly</td>\n",
              "            <td>930214</td>\n",
              "            <td>A</td>\n",
              "        </tr>\n",
              "        <tr>\n",
              "            <td>6244</td>\n",
              "            <td>1204953</td>\n",
              "            <td>1</td>\n",
              "            <td>100.0</td>\n",
              "            <td>12541</td>\n",
              "            <td>371104</td>\n",
              "            <td>950108</td>\n",
              "            <td>270648</td>\n",
              "            <td>36</td>\n",
              "            <td>7518</td>\n",
              "            <td>weekly</td>\n",
              "            <td>940307</td>\n",
              "            <td>B</td>\n",
              "        </tr>\n",
              "        <tr>\n",
              "            <td>6725</td>\n",
              "            <td>51428</td>\n",
              "            <td>4</td>\n",
              "            <td>52.7</td>\n",
              "            <td>8402</td>\n",
              "            <td>485828</td>\n",
              "            <td>950623</td>\n",
              "            <td>265320</td>\n",
              "            <td>36</td>\n",
              "            <td>7370</td>\n",
              "            <td>monthly</td>\n",
              "            <td>930918</td>\n",
              "            <td>A</td>\n",
              "        </tr>\n",
              "        <tr>\n",
              "            <td>6725</td>\n",
              "            <td>51428</td>\n",
              "            <td>4</td>\n",
              "            <td>52.7</td>\n",
              "            <td>8402</td>\n",
              "            <td>501204</td>\n",
              "            <td>950623</td>\n",
              "            <td>265320</td>\n",
              "            <td>36</td>\n",
              "            <td>7370</td>\n",
              "            <td>monthly</td>\n",
              "            <td>930918</td>\n",
              "            <td>A</td>\n",
              "        </tr>\n",
              "    </tbody>\n",
              "</table>"
            ]
          },
          "metadata": {},
          "execution_count": 29
        }
      ]
    },
    {
      "cell_type": "markdown",
      "metadata": {
        "id": "q6d-mkhTDddI"
      },
      "source": [
        "11. Domiciliaciones (*órdenes*) semanales para alquiler (*leasing*) en cuentas de Praga\n",
        "\n",
        " - Ordenes permanentes de alquiler (*leasing*) y semanales (*weekly*). Es decir domiciliaciones en cuentas de actualización semanal de alquiler en cuentas de Praga.\n",
        "\n",
        " \n",
        "Alquiler en k_symbol de Relation_permanent el LEASING;\n",
        "Prague de DISTRICT en región que es A3.\n",
        "amount de PERMANENT ORDER como cantidad debida;\n",
        "order_id de PERMANET ORDER como domiciliación.\n",
        "account_id que está en account y permanent order debido al identificador de la cuenta a la que va el cargo.\n"
      ]
    },
    {
      "cell_type": "code",
      "source": [
        "%%sql\n",
        "SELECT *\n",
        "FROM PERMANENT_ORDER, ACCOUNT, district\n",
        "limit 5"
      ],
      "metadata": {
        "id": "49lqSF407TaR",
        "colab": {
          "base_uri": "https://localhost:8080/",
          "height": 289
        },
        "outputId": "134bd0a7-b1b0-43ff-868a-4a868d4460e3"
      },
      "execution_count": null,
      "outputs": [
        {
          "output_type": "stream",
          "name": "stdout",
          "text": [
            " * sqlite:///data_berka.db\n",
            "Done.\n"
          ]
        },
        {
          "output_type": "execute_result",
          "data": {
            "text/plain": [
              "[(29401, 1, 'YZ', '87144583', 2452, 'SIPO', 576, 55, 'monthly', 930101, 1, 'Hl.m. Praha', 'Prague', 1204953, 0, 0, 0, 1, 1, 100.0, 12541, 0.29, 0.43, 167, 85677, 99107),\n",
              " (29401, 1, 'YZ', '87144583', 2452, 'SIPO', 576, 55, 'monthly', 930101, 2, 'Benesov', 'central Bohemia', 88884, 80, 26, 6, 2, 5, 46.7, 8507, 1.67, 1.85, 132, 2159, 2674),\n",
              " (29401, 1, 'YZ', '87144583', 2452, 'SIPO', 576, 55, 'monthly', 930101, 3, 'Beroun', 'central Bohemia', 75232, 55, 26, 4, 1, 5, 41.7, 8980, 1.95, 2.21, 111, 2824, 2813),\n",
              " (29401, 1, 'YZ', '87144583', 2452, 'SIPO', 576, 55, 'monthly', 930101, 4, 'Kladno', 'central Bohemia', 149893, 63, 29, 6, 2, 6, 67.4, 9753, 4.64, 5.05, 109, 5244, 5892),\n",
              " (29401, 1, 'YZ', '87144583', 2452, 'SIPO', 576, 55, 'monthly', 930101, 5, 'Kolin', 'central Bohemia', 95616, 65, 30, 4, 1, 6, 51.4, 9307, 3.85, 4.43, 118, 2616, 3040)]"
            ],
            "text/html": [
              "<table>\n",
              "    <thead>\n",
              "        <tr>\n",
              "            <th>order_id</th>\n",
              "            <th>account_id</th>\n",
              "            <th>bank_to</th>\n",
              "            <th>account_to</th>\n",
              "            <th>amount</th>\n",
              "            <th>k_symbol</th>\n",
              "            <th>account_id_1</th>\n",
              "            <th>district_id</th>\n",
              "            <th>frequency</th>\n",
              "            <th>date</th>\n",
              "            <th>A1</th>\n",
              "            <th>A2</th>\n",
              "            <th>A3</th>\n",
              "            <th>A4</th>\n",
              "            <th>A5</th>\n",
              "            <th>A6</th>\n",
              "            <th>A7</th>\n",
              "            <th>A8</th>\n",
              "            <th>A9</th>\n",
              "            <th>A10</th>\n",
              "            <th>A11</th>\n",
              "            <th>A12</th>\n",
              "            <th>A13</th>\n",
              "            <th>A14</th>\n",
              "            <th>A15</th>\n",
              "            <th>A16</th>\n",
              "        </tr>\n",
              "    </thead>\n",
              "    <tbody>\n",
              "        <tr>\n",
              "            <td>29401</td>\n",
              "            <td>1</td>\n",
              "            <td>YZ</td>\n",
              "            <td>87144583</td>\n",
              "            <td>2452</td>\n",
              "            <td>SIPO</td>\n",
              "            <td>576</td>\n",
              "            <td>55</td>\n",
              "            <td>monthly</td>\n",
              "            <td>930101</td>\n",
              "            <td>1</td>\n",
              "            <td>Hl.m. Praha</td>\n",
              "            <td>Prague</td>\n",
              "            <td>1204953</td>\n",
              "            <td>0</td>\n",
              "            <td>0</td>\n",
              "            <td>0</td>\n",
              "            <td>1</td>\n",
              "            <td>1</td>\n",
              "            <td>100.0</td>\n",
              "            <td>12541</td>\n",
              "            <td>0.29</td>\n",
              "            <td>0.43</td>\n",
              "            <td>167</td>\n",
              "            <td>85677</td>\n",
              "            <td>99107</td>\n",
              "        </tr>\n",
              "        <tr>\n",
              "            <td>29401</td>\n",
              "            <td>1</td>\n",
              "            <td>YZ</td>\n",
              "            <td>87144583</td>\n",
              "            <td>2452</td>\n",
              "            <td>SIPO</td>\n",
              "            <td>576</td>\n",
              "            <td>55</td>\n",
              "            <td>monthly</td>\n",
              "            <td>930101</td>\n",
              "            <td>2</td>\n",
              "            <td>Benesov</td>\n",
              "            <td>central Bohemia</td>\n",
              "            <td>88884</td>\n",
              "            <td>80</td>\n",
              "            <td>26</td>\n",
              "            <td>6</td>\n",
              "            <td>2</td>\n",
              "            <td>5</td>\n",
              "            <td>46.7</td>\n",
              "            <td>8507</td>\n",
              "            <td>1.67</td>\n",
              "            <td>1.85</td>\n",
              "            <td>132</td>\n",
              "            <td>2159</td>\n",
              "            <td>2674</td>\n",
              "        </tr>\n",
              "        <tr>\n",
              "            <td>29401</td>\n",
              "            <td>1</td>\n",
              "            <td>YZ</td>\n",
              "            <td>87144583</td>\n",
              "            <td>2452</td>\n",
              "            <td>SIPO</td>\n",
              "            <td>576</td>\n",
              "            <td>55</td>\n",
              "            <td>monthly</td>\n",
              "            <td>930101</td>\n",
              "            <td>3</td>\n",
              "            <td>Beroun</td>\n",
              "            <td>central Bohemia</td>\n",
              "            <td>75232</td>\n",
              "            <td>55</td>\n",
              "            <td>26</td>\n",
              "            <td>4</td>\n",
              "            <td>1</td>\n",
              "            <td>5</td>\n",
              "            <td>41.7</td>\n",
              "            <td>8980</td>\n",
              "            <td>1.95</td>\n",
              "            <td>2.21</td>\n",
              "            <td>111</td>\n",
              "            <td>2824</td>\n",
              "            <td>2813</td>\n",
              "        </tr>\n",
              "        <tr>\n",
              "            <td>29401</td>\n",
              "            <td>1</td>\n",
              "            <td>YZ</td>\n",
              "            <td>87144583</td>\n",
              "            <td>2452</td>\n",
              "            <td>SIPO</td>\n",
              "            <td>576</td>\n",
              "            <td>55</td>\n",
              "            <td>monthly</td>\n",
              "            <td>930101</td>\n",
              "            <td>4</td>\n",
              "            <td>Kladno</td>\n",
              "            <td>central Bohemia</td>\n",
              "            <td>149893</td>\n",
              "            <td>63</td>\n",
              "            <td>29</td>\n",
              "            <td>6</td>\n",
              "            <td>2</td>\n",
              "            <td>6</td>\n",
              "            <td>67.4</td>\n",
              "            <td>9753</td>\n",
              "            <td>4.64</td>\n",
              "            <td>5.05</td>\n",
              "            <td>109</td>\n",
              "            <td>5244</td>\n",
              "            <td>5892</td>\n",
              "        </tr>\n",
              "        <tr>\n",
              "            <td>29401</td>\n",
              "            <td>1</td>\n",
              "            <td>YZ</td>\n",
              "            <td>87144583</td>\n",
              "            <td>2452</td>\n",
              "            <td>SIPO</td>\n",
              "            <td>576</td>\n",
              "            <td>55</td>\n",
              "            <td>monthly</td>\n",
              "            <td>930101</td>\n",
              "            <td>5</td>\n",
              "            <td>Kolin</td>\n",
              "            <td>central Bohemia</td>\n",
              "            <td>95616</td>\n",
              "            <td>65</td>\n",
              "            <td>30</td>\n",
              "            <td>4</td>\n",
              "            <td>1</td>\n",
              "            <td>6</td>\n",
              "            <td>51.4</td>\n",
              "            <td>9307</td>\n",
              "            <td>3.85</td>\n",
              "            <td>4.43</td>\n",
              "            <td>118</td>\n",
              "            <td>2616</td>\n",
              "            <td>3040</td>\n",
              "        </tr>\n",
              "    </tbody>\n",
              "</table>"
            ]
          },
          "metadata": {},
          "execution_count": 30
        }
      ]
    },
    {
      "cell_type": "code",
      "metadata": {
        "id": "RSg_7AqLDog_",
        "colab": {
          "base_uri": "https://localhost:8080/",
          "height": 203
        },
        "outputId": "78498fbc-42a7-463e-dcb2-e80b94639986"
      },
      "source": [
        "%%sql\n",
        "SELECT order_id, p.account_id, amount\n",
        "FROM PERMANENT_ORDER p, ACCOUNT a, DISTRICT d\n",
        "WHERE p.account_id = a.account_id\n",
        "and a.district_id = d.A1\n",
        "and k_symbol = \"LEASING\"\n",
        "and frequency = \"weekly\"\n",
        "and A3 = \"Prague\""
      ],
      "execution_count": null,
      "outputs": [
        {
          "output_type": "stream",
          "name": "stdout",
          "text": [
            " * sqlite:///data_berka.db\n",
            "Done.\n"
          ]
        },
        {
          "output_type": "execute_result",
          "data": {
            "text/plain": [
              "[(29514, 72, 2923),\n",
              " (30250, 573, 2249),\n",
              " (30944, 1056, 2531.7),\n",
              " (34056, 3141, 1087),\n",
              " (35237, 3959, 1680.6),\n",
              " (40429, 7465, 1060.6)]"
            ],
            "text/html": [
              "<table>\n",
              "    <thead>\n",
              "        <tr>\n",
              "            <th>order_id</th>\n",
              "            <th>account_id</th>\n",
              "            <th>amount</th>\n",
              "        </tr>\n",
              "    </thead>\n",
              "    <tbody>\n",
              "        <tr>\n",
              "            <td>29514</td>\n",
              "            <td>72</td>\n",
              "            <td>2923</td>\n",
              "        </tr>\n",
              "        <tr>\n",
              "            <td>30250</td>\n",
              "            <td>573</td>\n",
              "            <td>2249</td>\n",
              "        </tr>\n",
              "        <tr>\n",
              "            <td>30944</td>\n",
              "            <td>1056</td>\n",
              "            <td>2531.7</td>\n",
              "        </tr>\n",
              "        <tr>\n",
              "            <td>34056</td>\n",
              "            <td>3141</td>\n",
              "            <td>1087</td>\n",
              "        </tr>\n",
              "        <tr>\n",
              "            <td>35237</td>\n",
              "            <td>3959</td>\n",
              "            <td>1680.6</td>\n",
              "        </tr>\n",
              "        <tr>\n",
              "            <td>40429</td>\n",
              "            <td>7465</td>\n",
              "            <td>1060.6</td>\n",
              "        </tr>\n",
              "    </tbody>\n",
              "</table>"
            ]
          },
          "metadata": {},
          "execution_count": 31
        }
      ]
    },
    {
      "cell_type": "markdown",
      "metadata": {
        "id": "l3TYpZlj8vQU"
      },
      "source": [
        "\n",
        "Igual pero ampliando a un relación con cuentas que tienen región Praga"
      ]
    },
    {
      "cell_type": "code",
      "metadata": {
        "id": "Hl-0s5LbsT0z",
        "colab": {
          "base_uri": "https://localhost:8080/",
          "height": 203
        },
        "outputId": "710b95c5-f7f1-4bd1-ee0d-a75359fa3a1f"
      },
      "source": [
        "%%sql\n",
        "SELECT order_id, k_symbol, bank_to, a.account_id, a.frequency, d.A3\n",
        "FROM PERMANENT_ORDER p, ACCOUNT a, DISTRICT d\n",
        "WHERE p.account_id = a.account_id\n",
        "and a.district_id = d.A1\n",
        "and k_symbol = \"LEASING\"\n",
        "and frequency = \"weekly\"\n",
        "and A3 = \"Prague\""
      ],
      "execution_count": null,
      "outputs": [
        {
          "output_type": "stream",
          "name": "stdout",
          "text": [
            " * sqlite:///data_berka.db\n",
            "Done.\n"
          ]
        },
        {
          "output_type": "execute_result",
          "data": {
            "text/plain": [
              "[(29514, 'LEASING', 'OP', 72, 'weekly', 'Prague'),\n",
              " (30250, 'LEASING', 'CD', 573, 'weekly', 'Prague'),\n",
              " (30944, 'LEASING', 'IJ', 1056, 'weekly', 'Prague'),\n",
              " (34056, 'LEASING', 'OP', 3141, 'weekly', 'Prague'),\n",
              " (35237, 'LEASING', 'AB', 3959, 'weekly', 'Prague'),\n",
              " (40429, 'LEASING', 'ST', 7465, 'weekly', 'Prague')]"
            ],
            "text/html": [
              "<table>\n",
              "    <thead>\n",
              "        <tr>\n",
              "            <th>order_id</th>\n",
              "            <th>k_symbol</th>\n",
              "            <th>bank_to</th>\n",
              "            <th>account_id</th>\n",
              "            <th>frequency</th>\n",
              "            <th>A3</th>\n",
              "        </tr>\n",
              "    </thead>\n",
              "    <tbody>\n",
              "        <tr>\n",
              "            <td>29514</td>\n",
              "            <td>LEASING</td>\n",
              "            <td>OP</td>\n",
              "            <td>72</td>\n",
              "            <td>weekly</td>\n",
              "            <td>Prague</td>\n",
              "        </tr>\n",
              "        <tr>\n",
              "            <td>30250</td>\n",
              "            <td>LEASING</td>\n",
              "            <td>CD</td>\n",
              "            <td>573</td>\n",
              "            <td>weekly</td>\n",
              "            <td>Prague</td>\n",
              "        </tr>\n",
              "        <tr>\n",
              "            <td>30944</td>\n",
              "            <td>LEASING</td>\n",
              "            <td>IJ</td>\n",
              "            <td>1056</td>\n",
              "            <td>weekly</td>\n",
              "            <td>Prague</td>\n",
              "        </tr>\n",
              "        <tr>\n",
              "            <td>34056</td>\n",
              "            <td>LEASING</td>\n",
              "            <td>OP</td>\n",
              "            <td>3141</td>\n",
              "            <td>weekly</td>\n",
              "            <td>Prague</td>\n",
              "        </tr>\n",
              "        <tr>\n",
              "            <td>35237</td>\n",
              "            <td>LEASING</td>\n",
              "            <td>AB</td>\n",
              "            <td>3959</td>\n",
              "            <td>weekly</td>\n",
              "            <td>Prague</td>\n",
              "        </tr>\n",
              "        <tr>\n",
              "            <td>40429</td>\n",
              "            <td>LEASING</td>\n",
              "            <td>ST</td>\n",
              "            <td>7465</td>\n",
              "            <td>weekly</td>\n",
              "            <td>Prague</td>\n",
              "        </tr>\n",
              "    </tbody>\n",
              "</table>"
            ]
          },
          "metadata": {},
          "execution_count": 32
        }
      ]
    },
    {
      "cell_type": "markdown",
      "source": [
        "El profesor añade en el selecta la columna A2 pero como dice región yo solo dejo A3 que es la columna que se refiere a la región y así se ve mas limpia la tabla."
      ],
      "metadata": {
        "id": "GU9uRrA2zKLj"
      }
    },
    {
      "cell_type": "markdown",
      "source": [
        "Pruebo A2 a ver que tiene."
      ],
      "metadata": {
        "id": "6LynkfrUzYHn"
      }
    },
    {
      "cell_type": "code",
      "source": [
        "%%sql\n",
        "SELECT A2\n",
        "FROM district\n",
        "GROUP BY A2"
      ],
      "metadata": {
        "id": "RB0a7zF4y1U3"
      },
      "execution_count": null,
      "outputs": []
    },
    {
      "cell_type": "markdown",
      "metadata": {
        "id": "mlHOEFl_v0Fm"
      },
      "source": [
        "12. Transacciones relacionadas con pensiones (DUCHOD) en Plzen desde el banco MN\n",
        "\n",
        "(limitar a 10)"
      ]
    },
    {
      "cell_type": "markdown",
      "source": [
        "Usamos like (cadena de caracteres)\n"
      ],
      "metadata": {
        "id": "1DRZugSV2dJp"
      }
    },
    {
      "cell_type": "code",
      "metadata": {
        "id": "mPBrFgPtvzYN",
        "colab": {
          "base_uri": "https://localhost:8080/",
          "height": 289
        },
        "outputId": "c3e5d7f9-2d73-40f8-b6ec-2652cfbf0e5e"
      },
      "source": [
        "%%sql\n",
        "SELECT trans_id, a.account_id, a.frequency, t.type, k_symbol, bank\n",
        "FROM TRANS t, ACCOUNT a, DISTRICT d\n",
        "WHERE t.account_id = a.account_id and a.district_id = d.A1\n",
        "  and k_symbol = \"DUCHOD\" and bank = \"MN\" and d.A2 like \"Plzen%\"   \n",
        "LIMIT 10"
      ],
      "execution_count": null,
      "outputs": [
        {
          "output_type": "stream",
          "name": "stdout",
          "text": [
            " * sqlite:///data_berka.db\n",
            "Done.\n"
          ]
        },
        {
          "output_type": "execute_result",
          "data": {
            "text/plain": [
              "[(47969, 161, 'monthly', 'PRIJEM', 'DUCHOD', 'MN'),\n",
              " (47970, 161, 'monthly', 'PRIJEM', 'DUCHOD', 'MN'),\n",
              " (47971, 161, 'monthly', 'PRIJEM', 'DUCHOD', 'MN'),\n",
              " (47972, 161, 'monthly', 'PRIJEM', 'DUCHOD', 'MN'),\n",
              " (47973, 161, 'monthly', 'PRIJEM', 'DUCHOD', 'MN'),\n",
              " (47974, 161, 'monthly', 'PRIJEM', 'DUCHOD', 'MN'),\n",
              " (47975, 161, 'monthly', 'PRIJEM', 'DUCHOD', 'MN'),\n",
              " (47976, 161, 'monthly', 'PRIJEM', 'DUCHOD', 'MN'),\n",
              " (47977, 161, 'monthly', 'PRIJEM', 'DUCHOD', 'MN'),\n",
              " (1098524, 3753, 'monthly', 'PRIJEM', 'DUCHOD', 'MN')]"
            ],
            "text/html": [
              "<table>\n",
              "    <thead>\n",
              "        <tr>\n",
              "            <th>trans_id</th>\n",
              "            <th>account_id</th>\n",
              "            <th>frequency</th>\n",
              "            <th>type</th>\n",
              "            <th>k_symbol</th>\n",
              "            <th>bank</th>\n",
              "        </tr>\n",
              "    </thead>\n",
              "    <tbody>\n",
              "        <tr>\n",
              "            <td>47969</td>\n",
              "            <td>161</td>\n",
              "            <td>monthly</td>\n",
              "            <td>PRIJEM</td>\n",
              "            <td>DUCHOD</td>\n",
              "            <td>MN</td>\n",
              "        </tr>\n",
              "        <tr>\n",
              "            <td>47970</td>\n",
              "            <td>161</td>\n",
              "            <td>monthly</td>\n",
              "            <td>PRIJEM</td>\n",
              "            <td>DUCHOD</td>\n",
              "            <td>MN</td>\n",
              "        </tr>\n",
              "        <tr>\n",
              "            <td>47971</td>\n",
              "            <td>161</td>\n",
              "            <td>monthly</td>\n",
              "            <td>PRIJEM</td>\n",
              "            <td>DUCHOD</td>\n",
              "            <td>MN</td>\n",
              "        </tr>\n",
              "        <tr>\n",
              "            <td>47972</td>\n",
              "            <td>161</td>\n",
              "            <td>monthly</td>\n",
              "            <td>PRIJEM</td>\n",
              "            <td>DUCHOD</td>\n",
              "            <td>MN</td>\n",
              "        </tr>\n",
              "        <tr>\n",
              "            <td>47973</td>\n",
              "            <td>161</td>\n",
              "            <td>monthly</td>\n",
              "            <td>PRIJEM</td>\n",
              "            <td>DUCHOD</td>\n",
              "            <td>MN</td>\n",
              "        </tr>\n",
              "        <tr>\n",
              "            <td>47974</td>\n",
              "            <td>161</td>\n",
              "            <td>monthly</td>\n",
              "            <td>PRIJEM</td>\n",
              "            <td>DUCHOD</td>\n",
              "            <td>MN</td>\n",
              "        </tr>\n",
              "        <tr>\n",
              "            <td>47975</td>\n",
              "            <td>161</td>\n",
              "            <td>monthly</td>\n",
              "            <td>PRIJEM</td>\n",
              "            <td>DUCHOD</td>\n",
              "            <td>MN</td>\n",
              "        </tr>\n",
              "        <tr>\n",
              "            <td>47976</td>\n",
              "            <td>161</td>\n",
              "            <td>monthly</td>\n",
              "            <td>PRIJEM</td>\n",
              "            <td>DUCHOD</td>\n",
              "            <td>MN</td>\n",
              "        </tr>\n",
              "        <tr>\n",
              "            <td>47977</td>\n",
              "            <td>161</td>\n",
              "            <td>monthly</td>\n",
              "            <td>PRIJEM</td>\n",
              "            <td>DUCHOD</td>\n",
              "            <td>MN</td>\n",
              "        </tr>\n",
              "        <tr>\n",
              "            <td>1098524</td>\n",
              "            <td>3753</td>\n",
              "            <td>monthly</td>\n",
              "            <td>PRIJEM</td>\n",
              "            <td>DUCHOD</td>\n",
              "            <td>MN</td>\n",
              "        </tr>\n",
              "    </tbody>\n",
              "</table>"
            ]
          },
          "metadata": {},
          "execution_count": 34
        }
      ]
    },
    {
      "cell_type": "markdown",
      "metadata": {
        "id": "Ovmgyxkd90ME"
      },
      "source": [
        "# Subconsultas"
      ]
    },
    {
      "cell_type": "markdown",
      "metadata": {
        "id": "0YCXvcENCKj7"
      },
      "source": [
        "13. Prestamos cuya cantidad es superior a la media de los clientes de Praga"
      ]
    },
    {
      "cell_type": "markdown",
      "metadata": {
        "id": "O4RbJSfXBW7t"
      },
      "source": [
        "- Cantidad media prestada a los cuentas de Praga "
      ]
    },
    {
      "cell_type": "code",
      "metadata": {
        "id": "BqeI97l5BWp3",
        "colab": {
          "base_uri": "https://localhost:8080/",
          "height": 96
        },
        "outputId": "d2a56e64-cc40-49b1-dd29-4f24db8f45a4"
      },
      "source": [
        "%%sql\n",
        "SELECT avg(l.amount)\n",
        "FROM LOAN l, ACCOUNT a, DISTRICT D\n",
        "WHERE l.account_id = a.account_id and a.district_id = d.A1 \n",
        "and d.A3 = \"Prague\"\n"
      ],
      "execution_count": null,
      "outputs": [
        {
          "output_type": "stream",
          "name": "stdout",
          "text": [
            " * sqlite:///data_berka.db\n",
            "Done.\n"
          ]
        },
        {
          "output_type": "execute_result",
          "data": {
            "text/plain": [
              "[(153957.2857142857,)]"
            ],
            "text/html": [
              "<table>\n",
              "    <thead>\n",
              "        <tr>\n",
              "            <th>avg(l.amount)</th>\n",
              "        </tr>\n",
              "    </thead>\n",
              "    <tbody>\n",
              "        <tr>\n",
              "            <td>153957.2857142857</td>\n",
              "        </tr>\n",
              "    </tbody>\n",
              "</table>"
            ]
          },
          "metadata": {},
          "execution_count": 35
        }
      ]
    },
    {
      "cell_type": "markdown",
      "metadata": {
        "id": "DerPYF5nI1xQ"
      },
      "source": [
        "- Consultar los préstamos superiores a esa cantidad"
      ]
    },
    {
      "cell_type": "code",
      "metadata": {
        "id": "cYE3agAOBn7U",
        "colab": {
          "base_uri": "https://localhost:8080/",
          "height": 289
        },
        "outputId": "f73672b7-395f-4246-8882-e8e5bf13dd43"
      },
      "source": [
        "\n",
        "%%sql\n",
        "SELECT * \n",
        "FROM LOAN\n",
        "WHERE amount > (SELECT avg(l.amount)\n",
        "FROM LOAN l, ACCOUNT a, DISTRICT D\n",
        "WHERE l.account_id = a.account_id and a.district_id = d.A1 \n",
        "and d.A3 = \"Prague\")\n",
        "ORDER BY amount\n",
        "LIMIT 10"
      ],
      "execution_count": null,
      "outputs": [
        {
          "output_type": "stream",
          "name": "stdout",
          "text": [
            " * sqlite:///data_berka.db\n",
            "Done.\n"
          ]
        },
        {
          "output_type": "execute_result",
          "data": {
            "text/plain": [
              "[(7235, 10973, 931013, 154416, 48, 3217, 'A'),\n",
              " (7189, 10728, 960321, 154656, 48, 3222, 'C'),\n",
              " (5591, 3021, 961204, 155616, 48, 3242, 'C'),\n",
              " (6818, 9030, 961212, 155616, 48, 3242, 'C'),\n",
              " (6471, 7184, 960804, 155640, 24, 6485, 'A'),\n",
              " (7279, 11244, 971211, 155760, 24, 6490, 'C'),\n",
              " (6667, 8127, 960715, 155880, 24, 6495, 'A'),\n",
              " (5124, 785, 980212, 156096, 36, 4336, 'C'),\n",
              " (5527, 2728, 980615, 156420, 60, 2607, 'C'),\n",
              " (5453, 2361, 950401, 156672, 36, 4352, 'A')]"
            ],
            "text/html": [
              "<table>\n",
              "    <thead>\n",
              "        <tr>\n",
              "            <th>loan_id</th>\n",
              "            <th>account_id</th>\n",
              "            <th>date</th>\n",
              "            <th>amount</th>\n",
              "            <th>duration</th>\n",
              "            <th>payments</th>\n",
              "            <th>status</th>\n",
              "        </tr>\n",
              "    </thead>\n",
              "    <tbody>\n",
              "        <tr>\n",
              "            <td>7235</td>\n",
              "            <td>10973</td>\n",
              "            <td>931013</td>\n",
              "            <td>154416</td>\n",
              "            <td>48</td>\n",
              "            <td>3217</td>\n",
              "            <td>A</td>\n",
              "        </tr>\n",
              "        <tr>\n",
              "            <td>7189</td>\n",
              "            <td>10728</td>\n",
              "            <td>960321</td>\n",
              "            <td>154656</td>\n",
              "            <td>48</td>\n",
              "            <td>3222</td>\n",
              "            <td>C</td>\n",
              "        </tr>\n",
              "        <tr>\n",
              "            <td>5591</td>\n",
              "            <td>3021</td>\n",
              "            <td>961204</td>\n",
              "            <td>155616</td>\n",
              "            <td>48</td>\n",
              "            <td>3242</td>\n",
              "            <td>C</td>\n",
              "        </tr>\n",
              "        <tr>\n",
              "            <td>6818</td>\n",
              "            <td>9030</td>\n",
              "            <td>961212</td>\n",
              "            <td>155616</td>\n",
              "            <td>48</td>\n",
              "            <td>3242</td>\n",
              "            <td>C</td>\n",
              "        </tr>\n",
              "        <tr>\n",
              "            <td>6471</td>\n",
              "            <td>7184</td>\n",
              "            <td>960804</td>\n",
              "            <td>155640</td>\n",
              "            <td>24</td>\n",
              "            <td>6485</td>\n",
              "            <td>A</td>\n",
              "        </tr>\n",
              "        <tr>\n",
              "            <td>7279</td>\n",
              "            <td>11244</td>\n",
              "            <td>971211</td>\n",
              "            <td>155760</td>\n",
              "            <td>24</td>\n",
              "            <td>6490</td>\n",
              "            <td>C</td>\n",
              "        </tr>\n",
              "        <tr>\n",
              "            <td>6667</td>\n",
              "            <td>8127</td>\n",
              "            <td>960715</td>\n",
              "            <td>155880</td>\n",
              "            <td>24</td>\n",
              "            <td>6495</td>\n",
              "            <td>A</td>\n",
              "        </tr>\n",
              "        <tr>\n",
              "            <td>5124</td>\n",
              "            <td>785</td>\n",
              "            <td>980212</td>\n",
              "            <td>156096</td>\n",
              "            <td>36</td>\n",
              "            <td>4336</td>\n",
              "            <td>C</td>\n",
              "        </tr>\n",
              "        <tr>\n",
              "            <td>5527</td>\n",
              "            <td>2728</td>\n",
              "            <td>980615</td>\n",
              "            <td>156420</td>\n",
              "            <td>60</td>\n",
              "            <td>2607</td>\n",
              "            <td>C</td>\n",
              "        </tr>\n",
              "        <tr>\n",
              "            <td>5453</td>\n",
              "            <td>2361</td>\n",
              "            <td>950401</td>\n",
              "            <td>156672</td>\n",
              "            <td>36</td>\n",
              "            <td>4352</td>\n",
              "            <td>A</td>\n",
              "        </tr>\n",
              "    </tbody>\n",
              "</table>"
            ]
          },
          "metadata": {},
          "execution_count": 36
        }
      ]
    },
    {
      "cell_type": "markdown",
      "metadata": {
        "id": "bC7in4f_76wC"
      },
      "source": [
        "# Repaso de Join/Group By"
      ]
    },
    {
      "cell_type": "markdown",
      "metadata": {
        "id": "6aCyWJrg9iwY"
      },
      "source": [
        "## Objetivo 2.1"
      ]
    },
    {
      "cell_type": "markdown",
      "metadata": {
        "id": "pCXPD-ri5xXk"
      },
      "source": [
        "14 . Clientes de Praga con préstamos según su estado\n",
        "\n",
        "- ¿Cuántos clientes hay en Praga? 663"
      ]
    },
    {
      "cell_type": "code",
      "source": [
        "%%sql\n",
        "SELECT count(*) \n",
        "FROM CLIENT, DISTRICT \n",
        "WHERE district_id = A1\n",
        "and A3 in (\"Prague\")\n"
      ],
      "metadata": {
        "colab": {
          "base_uri": "https://localhost:8080/",
          "height": 96
        },
        "id": "Q2e56N2p-2o5",
        "outputId": "fd2ba7c3-ff1d-4370-f52d-9a0769691aa7"
      },
      "execution_count": null,
      "outputs": [
        {
          "output_type": "stream",
          "name": "stdout",
          "text": [
            " * sqlite:///data_berka.db\n",
            "Done.\n"
          ]
        },
        {
          "output_type": "execute_result",
          "data": {
            "text/plain": [
              "[(663,)]"
            ],
            "text/html": [
              "<table>\n",
              "    <thead>\n",
              "        <tr>\n",
              "            <th>count(*)</th>\n",
              "        </tr>\n",
              "    </thead>\n",
              "    <tbody>\n",
              "        <tr>\n",
              "            <td>663</td>\n",
              "        </tr>\n",
              "    </tbody>\n",
              "</table>"
            ]
          },
          "metadata": {},
          "execution_count": 39
        }
      ]
    },
    {
      "cell_type": "markdown",
      "source": [
        "- ¿Cuántas cuentas tienen asociados clientes en Praga?\n"
      ],
      "metadata": {
        "id": "58Urp_tVCGVV"
      }
    },
    {
      "cell_type": "code",
      "source": [
        "%%sql\n",
        "SELECT * \n",
        "FROM ACCOUNT\n",
        "LIMIT 10"
      ],
      "metadata": {
        "colab": {
          "base_uri": "https://localhost:8080/",
          "height": 289
        },
        "id": "BD-0UDHA6t89",
        "outputId": "ac9a0ecc-7528-4f58-d101-9d44681207cb"
      },
      "execution_count": null,
      "outputs": [
        {
          "output_type": "stream",
          "name": "stdout",
          "text": [
            " * sqlite:///data_berka.db\n",
            "Done.\n"
          ]
        },
        {
          "output_type": "execute_result",
          "data": {
            "text/plain": [
              "[(576, 55, 'monthly', 930101),\n",
              " (3818, 74, 'monthly', 930101),\n",
              " (704, 55, 'monthly', 930101),\n",
              " (2378, 16, 'monthly', 930101),\n",
              " (2632, 24, 'monthly', 930102),\n",
              " (1972, 77, 'monthly', 930102),\n",
              " (1539, 1, 'after_tr', 930103),\n",
              " (793, 47, 'monthly', 930103),\n",
              " (2484, 74, 'monthly', 930103),\n",
              " (1695, 76, 'monthly', 930103)]"
            ],
            "text/html": [
              "<table>\n",
              "    <thead>\n",
              "        <tr>\n",
              "            <th>account_id</th>\n",
              "            <th>district_id</th>\n",
              "            <th>frequency</th>\n",
              "            <th>date</th>\n",
              "        </tr>\n",
              "    </thead>\n",
              "    <tbody>\n",
              "        <tr>\n",
              "            <td>576</td>\n",
              "            <td>55</td>\n",
              "            <td>monthly</td>\n",
              "            <td>930101</td>\n",
              "        </tr>\n",
              "        <tr>\n",
              "            <td>3818</td>\n",
              "            <td>74</td>\n",
              "            <td>monthly</td>\n",
              "            <td>930101</td>\n",
              "        </tr>\n",
              "        <tr>\n",
              "            <td>704</td>\n",
              "            <td>55</td>\n",
              "            <td>monthly</td>\n",
              "            <td>930101</td>\n",
              "        </tr>\n",
              "        <tr>\n",
              "            <td>2378</td>\n",
              "            <td>16</td>\n",
              "            <td>monthly</td>\n",
              "            <td>930101</td>\n",
              "        </tr>\n",
              "        <tr>\n",
              "            <td>2632</td>\n",
              "            <td>24</td>\n",
              "            <td>monthly</td>\n",
              "            <td>930102</td>\n",
              "        </tr>\n",
              "        <tr>\n",
              "            <td>1972</td>\n",
              "            <td>77</td>\n",
              "            <td>monthly</td>\n",
              "            <td>930102</td>\n",
              "        </tr>\n",
              "        <tr>\n",
              "            <td>1539</td>\n",
              "            <td>1</td>\n",
              "            <td>after_tr</td>\n",
              "            <td>930103</td>\n",
              "        </tr>\n",
              "        <tr>\n",
              "            <td>793</td>\n",
              "            <td>47</td>\n",
              "            <td>monthly</td>\n",
              "            <td>930103</td>\n",
              "        </tr>\n",
              "        <tr>\n",
              "            <td>2484</td>\n",
              "            <td>74</td>\n",
              "            <td>monthly</td>\n",
              "            <td>930103</td>\n",
              "        </tr>\n",
              "        <tr>\n",
              "            <td>1695</td>\n",
              "            <td>76</td>\n",
              "            <td>monthly</td>\n",
              "            <td>930103</td>\n",
              "        </tr>\n",
              "    </tbody>\n",
              "</table>"
            ]
          },
          "metadata": {},
          "execution_count": 42
        }
      ]
    },
    {
      "cell_type": "code",
      "source": [
        "%%sql\n",
        "SELECT count(*) \n",
        "FROM ACCOUNT, DISTRICT \n",
        "WHERE district_id = A1\n",
        "and A3 in (\"Prague\")\n",
        "\n"
      ],
      "metadata": {
        "id": "NgtBNMw9CKMc"
      },
      "execution_count": null,
      "outputs": []
    },
    {
      "cell_type": "markdown",
      "source": [
        "- ¿cuántas de esas cuentas tienen asociados un préstamo?\n"
      ],
      "metadata": {
        "id": "Wcirshw-CK_e"
      }
    },
    {
      "cell_type": "code",
      "source": [
        "%%sql\n",
        "SELECT * \n",
        "FROM LOAN \n",
        "LIMIT 5"
      ],
      "metadata": {
        "id": "dDkZLAbL7CQP"
      },
      "execution_count": null,
      "outputs": []
    },
    {
      "cell_type": "code",
      "source": [
        "%%sql\n",
        "SELECT count(*) \n",
        "FROM ACCOUNT a, DISTRICT, LOAN l\n",
        "WHERE a.district_id = A1 \n",
        "and a.account_id = l.account_id \n",
        "and A3 in (\"Prague\")"
      ],
      "metadata": {
        "id": "DntrwKVQCOWa",
        "colab": {
          "base_uri": "https://localhost:8080/",
          "height": 96
        },
        "outputId": "4c6cfa17-90f6-4ab2-ecc0-9830ca230ac9"
      },
      "execution_count": null,
      "outputs": [
        {
          "output_type": "stream",
          "name": "stdout",
          "text": [
            " * sqlite:///data_berka.db\n",
            "Done.\n"
          ]
        },
        {
          "output_type": "execute_result",
          "data": {
            "text/plain": [
              "[(84,)]"
            ],
            "text/html": [
              "<table>\n",
              "    <thead>\n",
              "        <tr>\n",
              "            <th>count(*)</th>\n",
              "        </tr>\n",
              "    </thead>\n",
              "    <tbody>\n",
              "        <tr>\n",
              "            <td>84</td>\n",
              "        </tr>\n",
              "    </tbody>\n",
              "</table>"
            ]
          },
          "metadata": {},
          "execution_count": 53
        }
      ]
    },
    {
      "cell_type": "markdown",
      "source": [
        "- Necesito saber cuántos hay por cada estado (*status*)"
      ],
      "metadata": {
        "id": "EnIZ9L4XCPR4"
      }
    },
    {
      "cell_type": "code",
      "source": [
        "%%sql\n",
        "SELECT status, count(*) as total\n",
        "FROM ACCOUNT a, DISTRICT, LOAN l\n",
        "WHERE a.district_id = A1 \n",
        "and a.account_id = l.account_id \n",
        "and A3 in (\"Prague\")\n",
        "GROUP BY status\n",
        "ORDER BY total \n"
      ],
      "metadata": {
        "colab": {
          "base_uri": "https://localhost:8080/",
          "height": 160
        },
        "id": "bmDnNz8N_Hwh",
        "outputId": "df0c33ba-924d-4d70-eb56-536ed045cd86"
      },
      "execution_count": null,
      "outputs": [
        {
          "output_type": "stream",
          "name": "stdout",
          "text": [
            " * sqlite:///data_berka.db\n",
            "Done.\n"
          ]
        },
        {
          "output_type": "execute_result",
          "data": {
            "text/plain": [
              "[('B', 3), ('D', 4), ('A', 34), ('C', 43)]"
            ],
            "text/html": [
              "<table>\n",
              "    <thead>\n",
              "        <tr>\n",
              "            <th>status</th>\n",
              "            <th>total</th>\n",
              "        </tr>\n",
              "    </thead>\n",
              "    <tbody>\n",
              "        <tr>\n",
              "            <td>B</td>\n",
              "            <td>3</td>\n",
              "        </tr>\n",
              "        <tr>\n",
              "            <td>D</td>\n",
              "            <td>4</td>\n",
              "        </tr>\n",
              "        <tr>\n",
              "            <td>A</td>\n",
              "            <td>34</td>\n",
              "        </tr>\n",
              "        <tr>\n",
              "            <td>C</td>\n",
              "            <td>43</td>\n",
              "        </tr>\n",
              "    </tbody>\n",
              "</table>"
            ]
          },
          "metadata": {},
          "execution_count": 63
        }
      ]
    },
    {
      "cell_type": "markdown",
      "metadata": {
        "id": "99ghIZqT9uDs"
      },
      "source": [
        "# Extra: Left Join"
      ]
    },
    {
      "cell_type": "markdown",
      "metadata": {
        "id": "H6_VZerEAN8Z"
      },
      "source": [
        "1. ¿Cuántas cuentas hay? 4500\n",
        "2. ¿Cuántas cuentas hay con préstamos? (inner join) 682\n",
        "3. Cuentas con los datos de los préstamos si los hay ¿?¿?¿?\n",
        "4. los ordenamos por cantidad ¿?¿?¿ ORDER BY amount\n"
      ]
    },
    {
      "cell_type": "code",
      "source": [
        "%%sql\n",
        "SELECT count(*) \n",
        "FROM ACCOUNT\n"
      ],
      "metadata": {
        "colab": {
          "base_uri": "https://localhost:8080/",
          "height": 96
        },
        "id": "seVMZ7kFAvgA",
        "outputId": "a6b26417-a7bc-405a-b729-0b4d38814916"
      },
      "execution_count": null,
      "outputs": [
        {
          "output_type": "stream",
          "name": "stdout",
          "text": [
            " * sqlite:///data_berka.db\n",
            "Done.\n"
          ]
        },
        {
          "output_type": "execute_result",
          "data": {
            "text/plain": [
              "[(4500,)]"
            ],
            "text/html": [
              "<table>\n",
              "    <thead>\n",
              "        <tr>\n",
              "            <th>count(*)</th>\n",
              "        </tr>\n",
              "    </thead>\n",
              "    <tbody>\n",
              "        <tr>\n",
              "            <td>4500</td>\n",
              "        </tr>\n",
              "    </tbody>\n",
              "</table>"
            ]
          },
          "metadata": {},
          "execution_count": 65
        }
      ]
    },
    {
      "cell_type": "code",
      "source": [
        "%%sql\n",
        "SELECT count(*) \n",
        "FROM ACCOUNT a, LOAN l\n",
        "WHERE a.account_id = l.account_id \n"
      ],
      "metadata": {
        "colab": {
          "base_uri": "https://localhost:8080/",
          "height": 96
        },
        "id": "xoHjPy1RA8fT",
        "outputId": "fcdbc677-9953-44fe-d559-0d07cb256854"
      },
      "execution_count": null,
      "outputs": [
        {
          "output_type": "stream",
          "name": "stdout",
          "text": [
            " * sqlite:///data_berka.db\n",
            "Done.\n"
          ]
        },
        {
          "output_type": "execute_result",
          "data": {
            "text/plain": [
              "[(682,)]"
            ],
            "text/html": [
              "<table>\n",
              "    <thead>\n",
              "        <tr>\n",
              "            <th>count(*)</th>\n",
              "        </tr>\n",
              "    </thead>\n",
              "    <tbody>\n",
              "        <tr>\n",
              "            <td>682</td>\n",
              "        </tr>\n",
              "    </tbody>\n",
              "</table>"
            ]
          },
          "metadata": {},
          "execution_count": 66
        }
      ]
    },
    {
      "cell_type": "code",
      "metadata": {
        "id": "IW8SUKMQ-VWo",
        "colab": {
          "base_uri": "https://localhost:8080/"
        },
        "outputId": "586fac8e-87ac-49ae-a9a4-bf6285e3ce7d"
      },
      "source": [
        "%%sql \n",
        "SELECT a.account_id, a.date, l.amount, l.status, l.payments, l.duration\n",
        "FROM ACCOUNT a INNER OUTER JOIN LOAN l ON a.account_id = l.account_id\n",
        "ORDER BY amount DESC\n",
        "\n",
        "\n"
      ],
      "execution_count": null,
      "outputs": [
        {
          "output_type": "stream",
          "name": "stdout",
          "text": [
            " * sqlite:///data_berka.db\n",
            "(sqlite3.OperationalError) unknown or unsupported join type: INNER OUTER\n",
            "[SQL: SELECT a.account_id, a.date, l.amount, l.status, l.payments, l.duration\n",
            "FROM ACCOUNT a INNER OUTER JOIN LOAN l ON a.account_id = l.account_id\n",
            "ORDER BY amount DESC]\n",
            "(Background on this error at: https://sqlalche.me/e/14/e3q8)\n"
          ]
        }
      ]
    },
    {
      "cell_type": "markdown",
      "metadata": {
        "id": "Jd8P8wSFB0Hu"
      },
      "source": [
        "# DataSets\n",
        "\n",
        "---"
      ]
    },
    {
      "cell_type": "markdown",
      "source": [
        "Dataset sobre las transacciones con Vyskov, extrayendo los años de las diferentes fechas. "
      ],
      "metadata": {
        "id": "EZeYmxUsoBZU"
      }
    },
    {
      "cell_type": "code",
      "source": [
        "%%sql dataset << SELECT substr(a.date,0,3) acc_year, substr(t.date, 0, 3) year,amount, balance, k_symbol\n",
        "FROM ACCOUNT a, TRANS t, DISTRICT d\n",
        "WHERE a.district_id = d.A1 and d.A2 = \"Vyskov\"\n",
        "AND a.account_id = t.account_id\n"
      ],
      "metadata": {
        "colab": {
          "base_uri": "https://localhost:8080/"
        },
        "id": "rzM2fptYltyo",
        "outputId": "e09301a8-3acf-48c0-8b9f-35543795ef8e"
      },
      "execution_count": null,
      "outputs": [
        {
          "output_type": "stream",
          "name": "stdout",
          "text": [
            " * sqlite:///data_berka.db\n",
            "Done.\n",
            "Returning data to local variable dataset\n"
          ]
        }
      ]
    },
    {
      "cell_type": "code",
      "source": [
        "dataset.DataFrame().to_csv(\"dataset.csv\")"
      ],
      "metadata": {
        "id": "AM8GCbRvokRt"
      },
      "execution_count": null,
      "outputs": []
    }
  ]
}